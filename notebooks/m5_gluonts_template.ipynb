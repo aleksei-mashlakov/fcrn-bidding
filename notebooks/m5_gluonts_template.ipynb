{
 "cells": [
  {
   "cell_type": "markdown",
   "metadata": {},
   "source": [
    "#### This helped with the notebook in conda\n",
    "https://medium.com/@nrk25693/how-to-add-your-conda-environment-to-your-jupyter-notebook-in-just-4-steps-abeab8b8d084"
   ]
  },
  {
   "cell_type": "markdown",
   "metadata": {},
   "source": [
    "# M5 Forecasting Competition GluonTS Template\n",
    "\n",
    "This notebook can be used as a starting point for participating in the [M5 forecasting competition](https://www.kaggle.com/c/m5-forecasting-accuracy/overview) using GluonTS-based tooling.\n",
    "\n"
   ]
  },
  {
   "cell_type": "markdown",
   "metadata": {},
   "source": [
    "### Standard imports\n",
    "\n",
    "First we import standard data manipulation libraries."
   ]
  },
  {
   "cell_type": "code",
   "execution_count": 1,
   "metadata": {},
   "outputs": [],
   "source": [
    "# import sys\n",
    "# sys.path.append('/home/aleksei/miniconda3/envs/fcrn_bidding/lib/python3.7/site-packages')\n",
    "# sys.path.append('/home/aleksei/miniconda3/envs/fcrn_bidding/bin/python')"
   ]
  },
  {
   "cell_type": "code",
   "execution_count": 2,
   "metadata": {},
   "outputs": [
    {
     "name": "stderr",
     "output_type": "stream",
     "text": [
      "/home/aleksei/miniconda3/envs/fcrn_bidding/lib/python3.7/site-packages/ipykernel_launcher.py:9: TqdmExperimentalWarning: Using `tqdm.autonotebook.tqdm` in notebook mode. Use `tqdm.tqdm` instead to force console mode (e.g. in jupyter console)\n",
      "  if __name__ == '__main__':\n"
     ]
    }
   ],
   "source": [
    "%matplotlib inline\n",
    "import mxnet as mx\n",
    "from mxnet import gluon\n",
    "import numpy as np\n",
    "import pandas as pd\n",
    "import matplotlib.pyplot as plt\n",
    "import json\n",
    "import os\n",
    "from tqdm.autonotebook import tqdm\n",
    "from pathlib import Path"
   ]
  },
  {
   "cell_type": "code",
   "execution_count": 3,
   "metadata": {},
   "outputs": [],
   "source": [
    "mx.random.seed(0)\n",
    "np.random.seed(0)"
   ]
  },
  {
   "cell_type": "markdown",
   "metadata": {},
   "source": [
    "We also define globally accessible variables, such as the prediction length and the input path for the M5 data. Note that `single_prediction_length` corresponds to the length of the validation/evaluation periods, while `submission_prediction_length` corresponds to the length of both these periods combined.\n",
    "\n",
    "By default the notebook is configured to run in submission mode (`submission` will be `True`), which means that we use all of the data for training and predict new values for a total length of `submission_prediction_length` for which we don't have ground truth values available (performance can be assessed by submitting prediction results to Kaggle). In contrast, setting `submission` to `False` will instead use the last `single_prediction_length`-many values of our training set as validation points (and hence these values will not be used for training), which enables us to validate our model's performance offline."
   ]
  },
  {
   "cell_type": "code",
   "execution_count": 49,
   "metadata": {},
   "outputs": [],
   "source": [
    "single_prediction_length = 24\n",
    "submission_prediction_length = single_prediction_length\n",
    "m5_input_path=\"./\"\n",
    "submission=True\n",
    "\n",
    "if submission:\n",
    "    prediction_length = submission_prediction_length\n",
    "else:\n",
    "    prediction_length = single_prediction_length"
   ]
  },
  {
   "cell_type": "markdown",
   "metadata": {},
   "source": [
    "### Data and features"
   ]
  },
  {
   "cell_type": "code",
   "execution_count": 3,
   "metadata": {},
   "outputs": [
    {
     "data": {
      "text/html": [
       "<div>\n",
       "<style scoped>\n",
       "    .dataframe tbody tr th:only-of-type {\n",
       "        vertical-align: middle;\n",
       "    }\n",
       "\n",
       "    .dataframe tbody tr th {\n",
       "        vertical-align: top;\n",
       "    }\n",
       "\n",
       "    .dataframe thead th {\n",
       "        text-align: right;\n",
       "    }\n",
       "</style>\n",
       "<table border=\"1\" class=\"dataframe\">\n",
       "  <thead>\n",
       "    <tr style=\"text-align: right;\">\n",
       "      <th></th>\n",
       "      <th>value</th>\n",
       "      <th>power</th>\n",
       "    </tr>\n",
       "    <tr>\n",
       "      <th>timestamp</th>\n",
       "      <th></th>\n",
       "      <th></th>\n",
       "    </tr>\n",
       "  </thead>\n",
       "  <tbody>\n",
       "    <tr>\n",
       "      <th>2019-01-01 22:00:00</th>\n",
       "      <td>30.0</td>\n",
       "      <td>31.0</td>\n",
       "    </tr>\n",
       "    <tr>\n",
       "      <th>2019-01-01 23:00:00</th>\n",
       "      <td>18.0</td>\n",
       "      <td>19.0</td>\n",
       "    </tr>\n",
       "    <tr>\n",
       "      <th>2019-01-02 00:00:00</th>\n",
       "      <td>21.0</td>\n",
       "      <td>22.0</td>\n",
       "    </tr>\n",
       "    <tr>\n",
       "      <th>2019-01-02 01:00:00</th>\n",
       "      <td>21.0</td>\n",
       "      <td>22.0</td>\n",
       "    </tr>\n",
       "    <tr>\n",
       "      <th>2019-01-02 02:00:00</th>\n",
       "      <td>21.0</td>\n",
       "      <td>22.0</td>\n",
       "    </tr>\n",
       "  </tbody>\n",
       "</table>\n",
       "</div>"
      ],
      "text/plain": [
       "                     value  power\n",
       "timestamp                        \n",
       "2019-01-01 22:00:00   30.0   31.0\n",
       "2019-01-01 23:00:00   18.0   19.0\n",
       "2019-01-02 00:00:00   21.0   22.0\n",
       "2019-01-02 01:00:00   21.0   22.0\n",
       "2019-01-02 02:00:00   21.0   22.0"
      ]
     },
     "execution_count": 3,
     "metadata": {},
     "output_type": "execute_result"
    }
   ],
   "source": [
    "df = pd.read_csv('./data/raw/fcrn_hourly_prices.csv', index_col=0)\n",
    "df.index = pd.to_datetime(df.index)\n",
    "df.index = df.index.tz_localize(None) #tz_convert('Europe/Helsinki')\n",
    "df = df['2019-01-01 22:00:00':]\n",
    "df['power'] = df['2019-01-01 22:00:00':]+1\n",
    "df.head()"
   ]
  },
  {
   "cell_type": "code",
   "execution_count": 4,
   "metadata": {},
   "outputs": [
    {
     "data": {
      "text/html": [
       "<div>\n",
       "<style scoped>\n",
       "    .dataframe tbody tr th:only-of-type {\n",
       "        vertical-align: middle;\n",
       "    }\n",
       "\n",
       "    .dataframe tbody tr th {\n",
       "        vertical-align: top;\n",
       "    }\n",
       "\n",
       "    .dataframe thead th {\n",
       "        text-align: right;\n",
       "    }\n",
       "</style>\n",
       "<table border=\"1\" class=\"dataframe\">\n",
       "  <thead>\n",
       "    <tr style=\"text-align: right;\">\n",
       "      <th></th>\n",
       "      <th>value</th>\n",
       "      <th>power</th>\n",
       "    </tr>\n",
       "    <tr>\n",
       "      <th>timestamp</th>\n",
       "      <th></th>\n",
       "      <th></th>\n",
       "    </tr>\n",
       "  </thead>\n",
       "  <tbody>\n",
       "    <tr>\n",
       "      <th>2020-09-15 17:00:00</th>\n",
       "      <td>16.00</td>\n",
       "      <td>17.00</td>\n",
       "    </tr>\n",
       "    <tr>\n",
       "      <th>2020-09-15 18:00:00</th>\n",
       "      <td>7.88</td>\n",
       "      <td>8.88</td>\n",
       "    </tr>\n",
       "    <tr>\n",
       "      <th>2020-09-15 19:00:00</th>\n",
       "      <td>7.00</td>\n",
       "      <td>8.00</td>\n",
       "    </tr>\n",
       "    <tr>\n",
       "      <th>2020-09-15 20:00:00</th>\n",
       "      <td>8.00</td>\n",
       "      <td>9.00</td>\n",
       "    </tr>\n",
       "    <tr>\n",
       "      <th>2020-09-15 21:00:00</th>\n",
       "      <td>12.50</td>\n",
       "      <td>13.50</td>\n",
       "    </tr>\n",
       "  </tbody>\n",
       "</table>\n",
       "</div>"
      ],
      "text/plain": [
       "                     value  power\n",
       "timestamp                        \n",
       "2020-09-15 17:00:00  16.00  17.00\n",
       "2020-09-15 18:00:00   7.88   8.88\n",
       "2020-09-15 19:00:00   7.00   8.00\n",
       "2020-09-15 20:00:00   8.00   9.00\n",
       "2020-09-15 21:00:00  12.50  13.50"
      ]
     },
     "execution_count": 4,
     "metadata": {},
     "output_type": "execute_result"
    }
   ],
   "source": [
    "df.tail()"
   ]
  },
  {
   "cell_type": "code",
   "execution_count": 6,
   "metadata": {},
   "outputs": [
    {
     "data": {
      "text/html": [
       "<div>\n",
       "<style scoped>\n",
       "    .dataframe tbody tr th:only-of-type {\n",
       "        vertical-align: middle;\n",
       "    }\n",
       "\n",
       "    .dataframe tbody tr th {\n",
       "        vertical-align: top;\n",
       "    }\n",
       "\n",
       "    .dataframe thead th {\n",
       "        text-align: right;\n",
       "    }\n",
       "</style>\n",
       "<table border=\"1\" class=\"dataframe\">\n",
       "  <thead>\n",
       "    <tr style=\"text-align: right;\">\n",
       "      <th></th>\n",
       "      <th>value</th>\n",
       "      <th>power</th>\n",
       "    </tr>\n",
       "    <tr>\n",
       "      <th>timestamp</th>\n",
       "      <th></th>\n",
       "      <th></th>\n",
       "    </tr>\n",
       "  </thead>\n",
       "  <tbody>\n",
       "    <tr>\n",
       "      <th>2019-01-01 22:00:00</th>\n",
       "      <td>30.0</td>\n",
       "      <td>31.0</td>\n",
       "    </tr>\n",
       "    <tr>\n",
       "      <th>2019-01-01 23:00:00</th>\n",
       "      <td>18.0</td>\n",
       "      <td>19.0</td>\n",
       "    </tr>\n",
       "    <tr>\n",
       "      <th>2019-01-02 00:00:00</th>\n",
       "      <td>21.0</td>\n",
       "      <td>22.0</td>\n",
       "    </tr>\n",
       "    <tr>\n",
       "      <th>2019-01-02 01:00:00</th>\n",
       "      <td>21.0</td>\n",
       "      <td>22.0</td>\n",
       "    </tr>\n",
       "    <tr>\n",
       "      <th>2019-01-02 02:00:00</th>\n",
       "      <td>21.0</td>\n",
       "      <td>22.0</td>\n",
       "    </tr>\n",
       "    <tr>\n",
       "      <th>...</th>\n",
       "      <td>...</td>\n",
       "      <td>...</td>\n",
       "    </tr>\n",
       "    <tr>\n",
       "      <th>2020-09-14 17:00:00</th>\n",
       "      <td>11.6</td>\n",
       "      <td>12.6</td>\n",
       "    </tr>\n",
       "    <tr>\n",
       "      <th>2020-09-14 18:00:00</th>\n",
       "      <td>0.0</td>\n",
       "      <td>1.0</td>\n",
       "    </tr>\n",
       "    <tr>\n",
       "      <th>2020-09-14 19:00:00</th>\n",
       "      <td>12.4</td>\n",
       "      <td>13.4</td>\n",
       "    </tr>\n",
       "    <tr>\n",
       "      <th>2020-09-14 20:00:00</th>\n",
       "      <td>13.6</td>\n",
       "      <td>14.6</td>\n",
       "    </tr>\n",
       "    <tr>\n",
       "      <th>2020-09-14 21:00:00</th>\n",
       "      <td>15.0</td>\n",
       "      <td>16.0</td>\n",
       "    </tr>\n",
       "  </tbody>\n",
       "</table>\n",
       "<p>14928 rows × 2 columns</p>\n",
       "</div>"
      ],
      "text/plain": [
       "                     value  power\n",
       "timestamp                        \n",
       "2019-01-01 22:00:00   30.0   31.0\n",
       "2019-01-01 23:00:00   18.0   19.0\n",
       "2019-01-02 00:00:00   21.0   22.0\n",
       "2019-01-02 01:00:00   21.0   22.0\n",
       "2019-01-02 02:00:00   21.0   22.0\n",
       "...                    ...    ...\n",
       "2020-09-14 17:00:00   11.6   12.6\n",
       "2020-09-14 18:00:00    0.0    1.0\n",
       "2020-09-14 19:00:00   12.4   13.4\n",
       "2020-09-14 20:00:00   13.6   14.6\n",
       "2020-09-14 21:00:00   15.0   16.0\n",
       "\n",
       "[14928 rows x 2 columns]"
      ]
     },
     "execution_count": 6,
     "metadata": {},
     "output_type": "execute_result"
    }
   ],
   "source": [
    "df.iloc[:-24]"
   ]
  },
  {
   "cell_type": "code",
   "execution_count": 125,
   "metadata": {},
   "outputs": [
    {
     "data": {
      "text/plain": [
       "<matplotlib.axes._subplots.AxesSubplot at 0x7f8073123890>"
      ]
     },
     "execution_count": 125,
     "metadata": {},
     "output_type": "execute_result"
    },
    {
     "data": {
      "image/png": "[encoded data removed]",
      "text/plain": [
       "<Figure size 432x288 with 1 Axes>"
      ]
     },
     "metadata": {
      "needs_background": "light"
     },
     "output_type": "display_data"
    }
   ],
   "source": [
    "df.plot()"
   ]
  },
  {
   "cell_type": "code",
   "execution_count": 378,
   "metadata": {},
   "outputs": [],
   "source": [
    "def create_dataset(num_series, num_steps, period=24, mu=1, sigma=0.3):\n",
    "    # create target: noise + pattern\n",
    "    # noise\n",
    "    noise = np.random.normal(mu, sigma, size=(num_series, num_steps))\n",
    "\n",
    "    # pattern - sinusoid with different phase\n",
    "    sin_minumPi_Pi = np.sin(np.tile(np.linspace(-np.pi, np.pi, period), int(num_steps / period)))\n",
    "    sin_Zero_2Pi = np.sin(np.tile(np.linspace(0, 2 * np.pi, 24), int(num_steps / period)))\n",
    "\n",
    "    pattern = np.concatenate((np.tile(sin_minumPi_Pi.reshape(1, -1),\n",
    "                                      (int(np.ceil(num_series / 2)),1)),\n",
    "                              np.tile(sin_Zero_2Pi.reshape(1, -1),\n",
    "                                      (int(np.floor(num_series / 2)), 1))\n",
    "                             ),\n",
    "                             axis=0\n",
    "                            )\n",
    "\n",
    "    target = noise + pattern\n",
    "\n",
    "    # create time features: use target one period earlier, append with zeros\n",
    "    feat_dynamic_real = np.concatenate((np.zeros((num_series, period)),\n",
    "                                        target[:, :-period]\n",
    "                                       ),\n",
    "                                       axis=1\n",
    "                                      )\n",
    "\n",
    "    # create categorical static feats: use the sinusoid type as a categorical feature\n",
    "    feat_static_cat = np.concatenate((np.zeros(int(np.ceil(num_series / 2))),\n",
    "                                      np.ones(int(np.floor(num_series / 2)))\n",
    "                                     ),\n",
    "                                     axis=0\n",
    "                                    )\n",
    "\n",
    "    return target, feat_dynamic_real, feat_static_cat\n",
    "\n",
    "\n",
    "# define the parameters of the dataset\n",
    "custom_ds_metadata = {'num_series': 100,\n",
    "                      'num_steps': 24 * 7,\n",
    "                      'prediction_length': 24,\n",
    "                      'freq': '1H',\n",
    "                      'start': [pd.Timestamp(\"01-01-2019\", freq='1H')\n",
    "                                for _ in range(100)]\n",
    "                     }\n",
    "\n",
    "\n",
    "data_out = create_dataset(custom_ds_metadata['num_series'],\n",
    "                          custom_ds_metadata['num_steps'],\n",
    "                          custom_ds_metadata['prediction_length']\n",
    "                         )\n",
    "\n",
    "target, feat_dynamic_real, feat_static_cat = data_out\n",
    "\n",
    "\n",
    "train_ds = ListDataset([{FieldName.TARGET: target,\n",
    "                         FieldName.START: start,\n",
    "                         FieldName.FEAT_DYNAMIC_REAL: [fdr],\n",
    "                         FieldName.FEAT_STATIC_CAT: [fsc]}\n",
    "                        for (target, start, fdr, fsc) in zip(target[:, :-custom_ds_metadata['prediction_length']],\n",
    "                                                             custom_ds_metadata['start'],\n",
    "                                                             feat_dynamic_real[:, :-custom_ds_metadata['prediction_length']],\n",
    "                                                             feat_static_cat)],\n",
    "                      freq=custom_ds_metadata['freq'])\n",
    "\n",
    "test_ds = ListDataset([{FieldName.TARGET: target,\n",
    "                        FieldName.START: start,\n",
    "                        FieldName.FEAT_DYNAMIC_REAL: [fdr],\n",
    "                        FieldName.FEAT_STATIC_CAT: [fsc]}\n",
    "                       for (target, start, fdr, fsc) in zip(target,\n",
    "                                                            custom_ds_metadata['start'],\n",
    "                                                            feat_dynamic_real,\n",
    "                                                            feat_static_cat)],\n",
    "                     freq=custom_ds_metadata['freq'])"
   ]
  },
  {
   "cell_type": "code",
   "execution_count": 383,
   "metadata": {},
   "outputs": [
    {
     "data": {
      "text/plain": [
       "array([[1.4068921 , 0.61775108, 0.42768266, ..., 1.25167728, 1.35450653,\n",
       "        0.62262276],\n",
       "       [0.76258727, 0.73262368, 0.55240521, ..., 1.44929206, 1.74928036,\n",
       "        0.79506427],\n",
       "       [0.85828738, 0.94835086, 0.45550616, ..., 1.39204191, 1.54562762,\n",
       "        0.81682998],\n",
       "       ...,\n",
       "       [0.81449071, 1.34211853, 1.83580876, ..., 0.60172589, 0.83085278,\n",
       "        1.1793617 ],\n",
       "       [1.17655443, 1.41162188, 1.99991033, ..., 0.28480807, 0.71933551,\n",
       "        0.96588465],\n",
       "       [1.68571197, 0.91613364, 1.23138651, ..., 0.2831692 , 0.72877728,\n",
       "        1.41931993]])"
      ]
     },
     "execution_count": 383,
     "metadata": {},
     "output_type": "execute_result"
    }
   ],
   "source": [
    "target"
   ]
  },
  {
   "cell_type": "code",
   "execution_count": 381,
   "metadata": {},
   "outputs": [
    {
     "data": {
      "text/plain": [
       "array([[0.        , 0.        , 0.        , ..., 1.37703321, 1.23772032,\n",
       "        1.11954711],\n",
       "       [0.        , 0.        , 0.        , ..., 1.18448464, 1.39741681,\n",
       "        1.37247871],\n",
       "       [0.        , 0.        , 0.        , ..., 1.14928045, 1.39785883,\n",
       "        0.74275114],\n",
       "       ...,\n",
       "       [0.        , 0.        , 0.        , ..., 0.52201733, 0.95999009,\n",
       "        0.88889159],\n",
       "       [0.        , 0.        , 0.        , ..., 0.52501192, 0.77180875,\n",
       "        1.00694897],\n",
       "       [0.        , 0.        , 0.        , ..., 1.08008821, 0.64512568,\n",
       "        0.18292265]])"
      ]
     },
     "execution_count": 381,
     "metadata": {},
     "output_type": "execute_result"
    }
   ],
   "source": [
    "feat_dynamic_real"
   ]
  },
  {
   "cell_type": "code",
   "execution_count": 382,
   "metadata": {},
   "outputs": [
    {
     "data": {
      "text/plain": [
       "array([0., 0., 0., 0., 0., 0., 0., 0., 0., 0., 0., 0., 0., 0., 0., 0., 0.,\n",
       "       0., 0., 0., 0., 0., 0., 0., 0., 0., 0., 0., 0., 0., 0., 0., 0., 0.,\n",
       "       0., 0., 0., 0., 0., 0., 0., 0., 0., 0., 0., 0., 0., 0., 0., 0., 1.,\n",
       "       1., 1., 1., 1., 1., 1., 1., 1., 1., 1., 1., 1., 1., 1., 1., 1., 1.,\n",
       "       1., 1., 1., 1., 1., 1., 1., 1., 1., 1., 1., 1., 1., 1., 1., 1., 1.,\n",
       "       1., 1., 1., 1., 1., 1., 1., 1., 1., 1., 1., 1., 1., 1., 1.])"
      ]
     },
     "execution_count": 382,
     "metadata": {},
     "output_type": "execute_result"
    }
   ],
   "source": [
    "feat_static_cat"
   ]
  },
  {
   "cell_type": "code",
   "execution_count": 334,
   "metadata": {},
   "outputs": [],
   "source": [
    "num_series = 2 \n",
    "period = 24\n",
    "# create time features: use target one period earlier, append with zeros\n",
    "feat_dynamic_real = np.concatenate((np.zeros((num_series, period)),\n",
    "                                    target[:, :-period]\n",
    "                                   ),\n",
    "                                   axis=1\n",
    "                                  )\n",
    "\n",
    "# create categorical static feats: use the sinusoid type as a categorical feature\n",
    "feat_static_cat = np.concatenate((np.zeros(int(np.ceil(num_series / 2))),\n",
    "                                  np.ones(int(np.floor(num_series / 2)))\n",
    "                                 ),\n",
    "                                 axis=0\n",
    "                                )"
   ]
  },
  {
   "cell_type": "code",
   "execution_count": 338,
   "metadata": {},
   "outputs": [
    {
     "data": {
      "text/plain": [
       "array([0., 1.])"
      ]
     },
     "execution_count": 338,
     "metadata": {},
     "output_type": "execute_result"
    }
   ],
   "source": [
    "feat_static_cat"
   ]
  },
  {
   "cell_type": "code",
   "execution_count": 336,
   "metadata": {},
   "outputs": [
    {
     "data": {
      "text/plain": [
       "(2, 14952)"
      ]
     },
     "execution_count": 336,
     "metadata": {},
     "output_type": "execute_result"
    }
   ],
   "source": [
    "feat_dynamic_real.shape"
   ]
  },
  {
   "cell_type": "code",
   "execution_count": 171,
   "metadata": {},
   "outputs": [],
   "source": [
    "from gluonts.dataset.artificial import ComplexSeasonalTimeSeries\n",
    "from gluonts.dataset.common import ListDataset\n",
    "\n",
    "artificial_dataset = ComplexSeasonalTimeSeries(\n",
    "    num_series=10,\n",
    "    prediction_length=21,\n",
    "    freq_str=\"H\",\n",
    "    length_low=30,\n",
    "    length_high=200,\n",
    "    min_val=-10000,\n",
    "    max_val=10000,\n",
    "    is_integer=False,\n",
    "    proportion_missing_values=0,\n",
    "    is_noise=True,\n",
    "    is_scale=True,\n",
    "    percentage_unique_timestamps=1,\n",
    "    is_out_of_bounds_date=True,\n",
    ")\n",
    "\n",
    "train_ds = ListDataset(artificial_dataset.train,\n",
    "                        freq=artificial_dataset.metadata.freq)\n",
    "test_ds = ListDataset(artificial_dataset.test,\n",
    "                       freq=artificial_dataset.metadata.freq)"
   ]
  },
  {
   "cell_type": "code",
   "execution_count": 172,
   "metadata": {},
   "outputs": [
    {
     "data": {
      "text/plain": [
       "[{'start': Timestamp('1690-02-07 18:00:00', freq='H'),\n",
       "  'target': array([ 239.62966754,  328.05060092,  457.8858077 ,  572.73386971,\n",
       "          689.69442493,  841.19099148,  951.45769554, 1084.50115192,\n",
       "         1155.01712115, 1175.28192849, 1236.31754913, 1251.17807656,\n",
       "         1199.37914826, 1093.38851752, 1010.7423927 ,  892.67630656,\n",
       "          771.38996446,  613.53017466,  538.99493852,  497.20213151,\n",
       "          489.7367022 ,  580.77746298,  796.6504859 , 1079.55861142,\n",
       "         1243.65255353, 1758.33810934, 2016.17494755, 2408.39483376,\n",
       "         2887.57502929, 3188.64842561, 3668.1176831 , 3711.52462283,\n",
       "         3929.61581772, 3898.9619238 , 3657.71016149, 3333.64992326,\n",
       "         3093.64462467, 2789.17419171, 2320.15791854, 1984.17433115,\n",
       "         1658.66901509, 1138.40597909, 1215.8985342 , 1018.33623182,\n",
       "          928.94415343,  894.21014306]),\n",
       "  'item_id': 0},\n",
       " {'start': Timestamp('2002-05-04 15:00:00', freq='H'),\n",
       "  'target': array([  -32.74601305,  -126.23142705,   -80.08037605,  -132.75074958,\n",
       "          -151.44690003,  -175.42540272,   -39.88345586,    38.34740998,\n",
       "           107.38873164,   321.73177636,   373.51592282,   545.29926992,\n",
       "           712.32298042,   876.49620593,  1022.70611821,  1059.89408858,\n",
       "          1146.67583797,  1187.25812712,  1124.17433674,   951.00571235,\n",
       "           793.00981347,   590.49537837,   249.36043806,   275.07784149,\n",
       "           -18.01815603,  -330.6658638 ,  -731.53739431,  -606.11633592,\n",
       "          -538.32632754,  -398.14952644,  -363.24849869,   132.80914446,\n",
       "           304.12360033,   962.61999142,  1382.36363489,  1514.90751509,\n",
       "          1858.66839647,  2276.93770717,  2675.10318945,  2515.40477673,\n",
       "          2563.02808753,  2251.78314853,  1990.27551428,  1657.90320199,\n",
       "          1487.23473455,  1013.7999869 ,   503.2810738 ,   -15.03841002,\n",
       "          -212.32810521,  -203.40377267,  -824.28089226,  -934.17969792,\n",
       "          -775.88000948,  -231.71845383,  -432.18591814,  -319.76799028,\n",
       "           559.04932304,  1136.78587352,  1437.12762562,  2018.24872966,\n",
       "          1876.69606367,  2707.28373943,  2972.85233072,  2804.36771161,\n",
       "          2770.76368742,  2867.27415419,  2075.21021397,  2066.48808427,\n",
       "          1359.93641782,   995.76202002,   493.46414065,   -31.68847039,\n",
       "          -235.85344798,  -570.58367036,  -442.95718818,  -943.26370848,\n",
       "          -808.04156626,  -661.6103373 ,  -424.34241436,    39.01810098,\n",
       "           477.96434137,  1263.14309714,  1188.49066013,  2041.51622963,\n",
       "          2311.79826868,  2377.92128124,  3087.97270773,  3320.43961251,\n",
       "          2761.84653383,  2781.62529427,  2365.11952321,  1928.90208169,\n",
       "          1642.64824478,   943.99658595,   527.91245307,   -84.45895108,\n",
       "          -402.03627964,  -741.34615786,  -647.74628388,  -895.66740407,\n",
       "          -745.54905138,  -699.10409415,  -227.53049665,   249.55964434,\n",
       "           490.24873784,  1143.84879867,  1102.98146174,  1858.39905202,\n",
       "          2302.50362038,  2352.05455353,  3160.20746484,  2772.00609909,\n",
       "          3002.2702813 ,  2677.27704535,  2517.09423543,  2059.87264789,\n",
       "          1404.71568218,   919.13833916,   552.64601284,   383.5921471 ,\n",
       "          -475.71620043,  -654.92981623,  -800.08659413,  -904.43344944,\n",
       "          -802.52403818,  -633.21008692,  -169.44315996,  -260.21024843,\n",
       "           604.94112169,  1430.28025422,  1528.11173473,  1970.50427672,\n",
       "          2400.22061672,  2741.78954986,  2878.56025018,  3089.35654398,\n",
       "          2606.49996567,  2256.41965605,  2189.27117944,  1656.91055464,\n",
       "          1232.04706523,  1201.36018116,   255.78935366,   139.42904687,\n",
       "          -344.84786784,  -829.02255134,  -733.79437425, -1253.81193948,\n",
       "         -1020.59560039,  -630.07896394,  -348.05486121,    47.25962413,\n",
       "           575.36415707,   993.92141265,  1280.65280476,  1912.12335826,\n",
       "          2504.41667624,  2663.05343809,  3045.70972363,  2904.71213949,\n",
       "          3137.39497135]),\n",
       "  'item_id': 1},\n",
       " {'start': Timestamp('2012-04-04 15:00:00', freq='H'),\n",
       "  'target': array([ -110.6433931 ,   -74.43367223,   -40.77372128,     2.94516962,\n",
       "            32.63212401,    55.34769263,    70.91262011,    62.59071484,\n",
       "            23.93822796,   144.40603775,  -113.11294485,  -215.93009202,\n",
       "          -325.78655864,  -476.92317395,  -617.20256825,  -766.77926352,\n",
       "          -879.22403415, -1000.60581796, -1044.96236352, -1088.18237664,\n",
       "         -1047.25888826,  -988.04207139,  -863.34000738,  -746.18333946,\n",
       "          -563.35473392,  -345.52033268,  -159.99040041,    37.94253577,\n",
       "           143.0568754 ,   224.68383221,   241.80680682,   207.56033135,\n",
       "           101.884906  ,   416.42084957,  -292.40198989,  -596.23154086,\n",
       "          -869.82826109, -1199.84576871, -1472.13374054, -1727.96910215,\n",
       "         -1936.69943714, -2042.92833567, -2129.17232021, -2073.33086602,\n",
       "         -1921.37658892, -1728.26566418, -1496.9412059 , -1230.0381684 ,\n",
       "          -863.43630986,  -586.94017251,  -252.70657195,    17.09204758,\n",
       "           167.71338087,   304.29752167,   355.0359462 ,   250.07621685,\n",
       "           146.05446186,   532.20287276,  -386.01321742,  -678.45292942,\n",
       "         -1055.96282668, -1401.0780517 , -1707.26848805, -1996.63993634,\n",
       "         -2156.25260723, -2316.09372063, -2317.05734651, -2274.14645303,\n",
       "         -2114.11756147, -1840.69266458, -1595.11142295, -1314.51083712,\n",
       "          -934.39819667,  -595.04151701,  -311.30985937,    12.54426084,\n",
       "           205.96964091,   334.77282405,   330.07016166,   292.34983882,\n",
       "           158.85608891,   594.09394687,  -354.10811446,  -765.95536892,\n",
       "         -1051.58556117, -1394.23065762, -1743.54880478, -2000.476972  ,\n",
       "         -2193.30353739, -2329.46675603, -2336.71426938, -2257.03295168,\n",
       "         -2090.09771406, -1903.15967171, -1618.62198814, -1267.03442125,\n",
       "          -919.04844576,  -538.76242659,  -260.84244872,     7.73184483,\n",
       "           185.80206295,   328.55859099,   362.86448887,   303.07657807,\n",
       "           129.84263056,   558.21788945,  -373.5145019 ,  -728.76137916,\n",
       "         -1025.49295983, -1411.60804867, -1715.82057516, -2039.76771082,\n",
       "         -2187.76668994, -2283.38630048, -2344.07655965, -2289.70357463,\n",
       "         -2107.72176612, -1849.07742445, -1612.08603212, -1285.06389303,\n",
       "          -942.7179501 ,  -618.22525033,  -260.41011574,     3.34710554,\n",
       "           224.67660938,   333.65133086,   337.10022419,   290.70621107,\n",
       "           114.91101937,   579.24982596,  -365.92132732,  -767.57751171,\n",
       "         -1049.60852528, -1440.78494972, -1730.12004247, -2042.54981684,\n",
       "         -2227.07091988, -2316.5820997 , -2346.00471172, -2284.11342193,\n",
       "         -2153.94956831, -1951.99734233, -1618.76954816, -1267.20441644,\n",
       "          -935.56799159,  -572.49866134,  -290.36722649]),\n",
       "  'item_id': 2},\n",
       " {'start': Timestamp('2012-07-20 00:00:00', freq='H'),\n",
       "  'target': array([ -127.2004443 ,  -132.42951723,   -65.61779596,  -112.61297365,\n",
       "          -115.36794294,    -2.86567788,   -78.12409444,  -109.72363913,\n",
       "           -90.2483797 ,  -138.12091803,  -208.60787178,  -170.09308231,\n",
       "          -241.8557548 ,  -336.60917673,  -489.50844466,  -479.36953991,\n",
       "          -658.69597848,  -687.91549941,  -692.27553427,  -750.1267256 ,\n",
       "          -661.12183861,  -792.37180414, -1004.95495614,  -897.27496035,\n",
       "          -427.7797335 ,  -646.93609157,  -464.66160389,  -553.88537176,\n",
       "          -220.71142936,  -374.61170423,   -73.51995208,  -392.72735879,\n",
       "          -175.95354525,  -326.38138999,  -671.5208056 ,  -499.85916806,\n",
       "         -1000.80622021, -1152.48195411, -1037.2011917 , -1427.58304528,\n",
       "         -1546.1372274 , -1591.47437086, -1768.12110959, -1390.27078674,\n",
       "         -1439.21945889, -1495.66647623, -1394.00985101, -1147.42215815,\n",
       "          -591.54271754,  -746.31569852,  -864.20128727,  -466.57344746,\n",
       "          -532.79810935,  -470.61652969,   -14.50635866,  -485.06508354,\n",
       "          -548.68906336,  -942.43592767,  -958.1674491 ,  -732.33628506,\n",
       "         -1138.69107645, -1065.00712905, -1569.97802668, -1648.48762648]),\n",
       "  'item_id': 3},\n",
       " {'start': Timestamp('2007-10-04 10:00:00', freq='H'),\n",
       "  'target': array([  -76.34583432,  -115.71864929,  -176.72692843,   -99.93984287,\n",
       "            89.42256442,    -9.90119008,   220.18265001,   343.52847768,\n",
       "           431.27986558,   600.09480065,   736.18656624,   846.24960455,\n",
       "           838.29341209,   705.42620685,  1269.960396  ,   663.51544018,\n",
       "           455.53425364,   248.89319205,   159.12328288,  -205.55307192,\n",
       "          -428.7090777 ,  -545.627236  ,  -762.44992983,  -543.20855893,\n",
       "          -696.17301912,  -862.18430299,  -823.4993826 ,  -182.8999887 ,\n",
       "            32.15838637,   296.85125495,  1015.0209678 ,   949.33852771,\n",
       "          1284.16548585,  1782.77002555,  2137.69143538,  2038.58969697,\n",
       "          1987.90539803,  1868.98774028,  3018.34040319,  1389.71566097,\n",
       "          1176.26374195,   655.14516991,   156.67563694,  -410.13514845,\n",
       "          -618.73188743, -1144.62281447, -1610.84148422,  -984.52630649,\n",
       "         -1465.75710293, -1372.42844692,  -860.68835429,  -219.53093238,\n",
       "           120.21313013,   966.03439156,   528.06263637,   838.04306893,\n",
       "          1774.77146743,  1563.14396348,  2691.54987582,  2660.49203038,\n",
       "          2577.23563293,  2144.4545118 ,  3567.46206342,  1779.72865704,\n",
       "           944.92222005,   842.15890997,   458.33607946,   270.50406782,\n",
       "          -737.14074373, -1229.79236049, -1295.70025674, -1572.01271527,\n",
       "         -1016.17759731]),\n",
       "  'item_id': 4},\n",
       " {'start': Timestamp('2017-01-13 21:00:00', freq='H'),\n",
       "  'target': array([132.68887906, 128.59167244, 197.64883228, 195.52570788,\n",
       "         158.38641978, 222.4647557 , 194.24171662, 251.77761403,\n",
       "         146.36885525, 144.97338138, 138.39728135, 223.39496676,\n",
       "         147.33984978, 231.0573257 , 144.96260728, 396.14695714,\n",
       "         264.27256785, 194.81391087, 323.55381394, 463.86158041,\n",
       "         440.80103555, 560.16085208, 738.43667807, 749.61256391,\n",
       "         782.49906508, 750.52530829, 917.21816497, 812.57711867,\n",
       "         751.39790564, 670.01071111, 809.18987833, 621.76429409,\n",
       "         793.2875792 , 749.78755568, 663.9669463 ]),\n",
       "  'item_id': 5},\n",
       " {'start': Timestamp('2000-09-08 14:00:00', freq='H'),\n",
       "  'target': array([ -122.33479884,  -150.61530049,  -212.12160035,  -218.55642644,\n",
       "          -236.91102398,  -251.19263707,  -241.27989989,  -212.23764722,\n",
       "          -177.3169352 ,  -168.17432348,   -76.06863133,    76.40328638,\n",
       "           131.04932655,    71.0456087 ,   199.06468774,   244.30182123,\n",
       "           263.67900328,   217.46903514,   111.24233571,    68.43188839,\n",
       "           -62.68785332,  -162.36373559,  -342.6251738 ,  -495.5359486 ,\n",
       "          -571.16114   ,  -693.16044322,  -987.1620166 , -1007.30726388,\n",
       "         -1063.98155788,  -873.98680593,  -909.867137  ,  -655.68931883,\n",
       "          -668.62898309,  -433.7845654 ,  -241.4558786 ,    99.23823873,\n",
       "           126.13701195,   171.65413714,   375.81431062,   259.91219839,\n",
       "           496.78689044,   452.31749888,   352.3796145 ,   312.3556336 ,\n",
       "           -94.24070786,  -211.9320836 ,  -515.86371798,  -815.17593345,\n",
       "         -1245.92002578, -1087.37387642, -1379.8030494 , -1388.2202892 ,\n",
       "         -1536.40556544, -1293.3585814 , -1185.15270493, -1012.00452613,\n",
       "          -807.24334323,  -420.08206425,   -25.46530708,    51.84181037,\n",
       "           578.55159771,   303.10042192,   456.38544802,   445.97277767,\n",
       "           612.07022957,   408.15240648,    36.33332105,    21.41484239,\n",
       "           -57.98126774,  -203.77838575,  -771.00283679,  -914.16943366,\n",
       "         -1085.56781752, -1339.59588776, -1319.58692258, -1446.50453708,\n",
       "         -1404.77473608, -1455.94426638, -1051.84439024, -1043.24523567,\n",
       "          -658.01230002,  -605.87762719,   -70.57414831,  -113.81977585,\n",
       "            81.59081633,   295.31177727,   502.1767225 ,   545.90831475,\n",
       "           749.78900966,   357.54344487,   227.49023948,   367.37175047,\n",
       "             5.26624638,  -548.33856668,  -531.87595517,  -818.35501019,\n",
       "         -1329.05381455, -1303.05390854, -1390.14164912, -1365.50989349,\n",
       "         -1334.3074995 , -1362.889242  , -1114.47872335, -1063.16855909,\n",
       "          -914.93639948,  -665.91843683,   -76.33274456,  -265.87711987,\n",
       "           275.14199671,   247.94639572,   465.58218241,   632.5192276 ,\n",
       "           712.3925124 ,   263.80958   ,   261.42826519,   171.54315485,\n",
       "          -137.83353995,  -222.88095446,  -839.03862295,  -803.98301422,\n",
       "         -1024.36756902, -1253.86655204, -1257.66881776, -1598.88490695,\n",
       "         -1316.40872463, -1458.12753651, -1151.32816936, -1084.54275364,\n",
       "          -716.54832067,  -462.38105659,  -314.6948943 ,   -51.68187273,\n",
       "           183.69276163,   351.15878029,   418.54643096,   792.46479226,\n",
       "           592.62971905,   679.0428766 ,   289.60181291,    39.60925399,\n",
       "           -51.33188285,  -392.13560818,  -307.36581226,  -817.84296838,\n",
       "          -938.09613199, -1286.37744242, -1427.36232867, -1456.55846387,\n",
       "         -1405.87342946, -1273.75950507, -1252.04338213, -1126.9270568 ,\n",
       "          -940.12906066,  -564.19984037,   -72.74561848,    21.06202118,\n",
       "           192.55768995,   308.13353903]),\n",
       "  'item_id': 6},\n",
       " {'start': Timestamp('2011-04-22 07:00:00', freq='H'),\n",
       "  'target': array([ 99.73717038, 140.32803206, 117.13535718,  98.77171642,\n",
       "         140.53847755, 232.19238052, 248.43542031, 231.42415265,\n",
       "         234.00877333, 202.16473681, 112.91640756, 282.59188222,\n",
       "         177.87365186, 382.30419606, 161.28900551, 151.68143571,\n",
       "         344.25819172, 353.75354534, 485.44184248, 456.5586735 ,\n",
       "         275.6870549 , 360.84224681, 695.69379302, 370.45111542,\n",
       "         527.32111469, 683.01304559, 664.85852371, 751.77474021,\n",
       "         651.05557652, 814.58391038, 728.67671179, 793.05161995,\n",
       "         876.40884411, 877.36624833, 779.65956965, 687.17760476,\n",
       "         818.76328851, 695.30991956, 562.80459899, 750.28195814,\n",
       "         611.75815049, 784.69405673, 731.91829201, 875.20940715,\n",
       "         745.56759398, 988.48074513, 772.28605516, 643.47167978]),\n",
       "  'item_id': 7},\n",
       " {'start': Timestamp('2009-01-14 17:00:00', freq='H'),\n",
       "  'target': array([ -138.24760235,  -130.40719352,  -270.44989547,  -363.24517672,\n",
       "          -513.11547316,  -576.29185491,  -727.48967485,  -667.07192593,\n",
       "          -914.15216401,  -916.9712666 , -1024.24268363, -1019.76576004,\n",
       "         -1178.76292019, -1014.69851242,  -892.55768381,  -871.69251092,\n",
       "          -691.22819764,  -679.6587941 ,  -551.47336202,  -352.49505218,\n",
       "          -285.77365218,  -313.08500814,  -344.12415975,  -553.37475463,\n",
       "          -854.2942648 ,  -724.62294743, -1146.37668475, -1693.41426954,\n",
       "         -1823.77460996, -2157.5062282 , -2450.55449855, -2532.03382909,\n",
       "         -3230.31238639, -3031.97028369, -3487.13516889, -3215.71140762,\n",
       "         -2895.33757602, -2611.05220062, -2545.9475712 , -2088.35975036,\n",
       "         -1917.54524871,  -954.73483125, -1114.15915853, -1047.90318831,\n",
       "          -150.11178735,  -946.72043321,  -685.75696426,  -483.42287845,\n",
       "         -1428.05898881, -1518.18201493, -1886.52656266, -2084.66306144,\n",
       "         -2858.12374728, -2688.82183613, -3333.35229142, -3316.15542838,\n",
       "         -4188.00009726, -3680.32146208, -3898.51873306, -3766.346863  ,\n",
       "         -3484.70461759, -2649.55142531]),\n",
       "  'item_id': 8},\n",
       " {'start': Timestamp('2030-06-03 18:00:00', freq='H'),\n",
       "  'target': array([ 431.28078173,  415.33233098,  391.30630934,  535.42038615,\n",
       "          291.15614839,  265.08285474,  452.79996698,  198.28215679,\n",
       "          281.56871451,  436.86287993,  291.33002362,  480.31693617,\n",
       "          552.47494752,  668.95752067,  798.11599578, 1509.79198461,\n",
       "         1730.34978906, 1908.8489027 , 1940.48193679, 2145.72618801,\n",
       "         2293.91219214, 2297.25502302, 2245.78655209, 1988.75319561,\n",
       "         2316.02958725, 1699.66488091, 2014.11959448, 1527.17412804,\n",
       "         1216.89495438,  966.49101141, 1947.64959709, 1078.02098998,\n",
       "         1706.75576241,  777.85835432,  627.26978604, 2351.6328445 ,\n",
       "         1779.37680799, 2634.41490164, 2277.02187055, 3092.5834398 ,\n",
       "         3624.58371121, 4200.53812036, 3555.41527629, 4706.03839056,\n",
       "         4143.52822444]),\n",
       "  'item_id': 9}]"
      ]
     },
     "execution_count": 172,
     "metadata": {},
     "output_type": "execute_result"
    }
   ],
   "source": [
    "artificial_dataset.train"
   ]
  },
  {
   "cell_type": "code",
   "execution_count": 175,
   "metadata": {},
   "outputs": [
    {
     "data": {
      "text/plain": [
       "{'start': Timestamp('1690-02-07 18:00:00', freq='H'),\n",
       " 'target': array([ 239.62967,  328.0506 ,  457.8858 ,  572.7339 ,  689.6944 ,\n",
       "         841.191  ,  951.4577 , 1084.5011 , 1155.0171 , 1175.282  ,\n",
       "        1236.3175 , 1251.1781 , 1199.3792 , 1093.3885 , 1010.7424 ,\n",
       "         892.67633,  771.38995,  613.53015,  538.99493,  497.20212,\n",
       "         489.7367 ,  580.77747,  796.6505 , 1079.5586 , 1243.6526 ,\n",
       "        1758.3381 , 2016.1749 , 2408.3948 , 2887.575  , 3188.6484 ,\n",
       "        3668.1177 , 3711.5247 , 3929.6157 , 3898.962  , 3657.7102 ,\n",
       "        3333.65   , 3093.6445 , 2789.174  , 2320.158  , 1984.1743 ,\n",
       "        1658.6691 , 1138.406  , 1215.8986 , 1018.33624,  928.94415,\n",
       "         894.21014], dtype=float32),\n",
       " 'item_id': 0,\n",
       " 'source': SourceContext(source='list_data', row=0)}"
      ]
     },
     "execution_count": 175,
     "metadata": {},
     "output_type": "execute_result"
    }
   ],
   "source": [
    "# get the first time series in the training set\n",
    "train_entry = next(iter(train_ds))\n",
    "train_entry#.values()"
   ]
  },
  {
   "cell_type": "code",
   "execution_count": 256,
   "metadata": {},
   "outputs": [
    {
     "name": "stdout",
     "output_type": "stream",
     "text": [
      "[30.  18.  21.  ...  7.   8.  12.5]\n"
     ]
    },
    {
     "ename": "TypeError",
     "evalue": "data type not understood",
     "output_type": "error",
     "traceback": [
      "\u001b[0;31m---------------------------------------------------------------------------\u001b[0m",
      "\u001b[0;31mTypeError\u001b[0m                                 Traceback (most recent call last)",
      "\u001b[0;32m<ipython-input-256-218cdfd60129>\u001b[0m in \u001b[0;36m<module>\u001b[0;34m\u001b[0m\n\u001b[1;32m      1\u001b[0m \u001b[0;32mfor\u001b[0m \u001b[0mts\u001b[0m \u001b[0;32min\u001b[0m \u001b[0mtarget\u001b[0m\u001b[0;34m:\u001b[0m\u001b[0;34m\u001b[0m\u001b[0;34m\u001b[0m\u001b[0m\n\u001b[1;32m      2\u001b[0m     \u001b[0mprint\u001b[0m\u001b[0;34m(\u001b[0m\u001b[0mts\u001b[0m\u001b[0;34m)\u001b[0m\u001b[0;34m\u001b[0m\u001b[0;34m\u001b[0m\u001b[0m\n\u001b[0;32m----> 3\u001b[0;31m     \u001b[0mprint\u001b[0m\u001b[0;34m(\u001b[0m\u001b[0mnp\u001b[0m\u001b[0;34m.\u001b[0m\u001b[0mzeros\u001b[0m\u001b[0;34m(\u001b[0m\u001b[0;36m1\u001b[0m\u001b[0;34m,\u001b[0m \u001b[0mprediction_length\u001b[0m\u001b[0;34m)\u001b[0m\u001b[0;34m)\u001b[0m\u001b[0;34m\u001b[0m\u001b[0;34m\u001b[0m\u001b[0m\n\u001b[0m",
      "\u001b[0;31mTypeError\u001b[0m: data type not understood"
     ]
    }
   ],
   "source": [
    "for ts in target:\n",
    "    print(ts)\n",
    "    print(np.zeros(1, prediction_length))"
   ]
  },
  {
   "cell_type": "markdown",
   "metadata": {},
   "source": [
    "Finally, we can build both the training and the testing set from target values and both static and dynamic features."
   ]
  },
  {
   "cell_type": "code",
   "execution_count": 390,
   "metadata": {},
   "outputs": [],
   "source": [
    "# create time features: use target one period earlier, append with zeros\n",
    "num_series = df.shape[1]\n",
    "target = df.values.T #reshape(df.shape[1], df.shape[0])\n",
    "feat_dynamic_real_train = np.array([list(np.append(np.ones(prediction_length) * 0, ts[:-prediction_length])) for ts in target])\n",
    "feat_dynamic_real_test = np.array([list(np.append(np.ones(prediction_length) * 0, ts[:])) for ts in target])\n"
   ]
  },
  {
   "cell_type": "code",
   "execution_count": 391,
   "metadata": {},
   "outputs": [
    {
     "data": {
      "text/plain": [
       "array([[ 0. ,  0. ,  0. , ...,  7. ,  8. , 12.5],\n",
       "       [ 0. ,  0. ,  0. , ...,  8. ,  9. , 13.5]])"
      ]
     },
     "execution_count": 391,
     "metadata": {},
     "output_type": "execute_result"
    }
   ],
   "source": [
    "feat_dynamic_real_test"
   ]
  },
  {
   "cell_type": "code",
   "execution_count": 393,
   "metadata": {},
   "outputs": [
    {
     "data": {
      "text/plain": [
       "array([[ 0. ,  0. ,  0. , ..., 12.4, 13.6, 15. ],\n",
       "       [ 0. ,  0. ,  0. , ..., 13.4, 14.6, 16. ]])"
      ]
     },
     "execution_count": 393,
     "metadata": {},
     "output_type": "execute_result"
    }
   ],
   "source": [
    "feat_dynamic_real_train"
   ]
  },
  {
   "cell_type": "code",
   "execution_count": 345,
   "metadata": {},
   "outputs": [
    {
     "data": {
      "text/plain": [
       "array([[30. , 18. , 21. , ...,  7. ,  8. , 12.5],\n",
       "       [31. , 19. , 22. , ...,  8. ,  9. , 13.5]])"
      ]
     },
     "execution_count": 345,
     "metadata": {},
     "output_type": "execute_result"
    }
   ],
   "source": [
    "target"
   ]
  },
  {
   "cell_type": "code",
   "execution_count": 192,
   "metadata": {},
   "outputs": [
    {
     "data": {
      "text/plain": [
       "array([[30. , 18. , 21. , ..., 12.4, 13.6, 15. ],\n",
       "       [31. , 19. , 22. , ..., 13.4, 14.6, 16. ]])"
      ]
     },
     "execution_count": 192,
     "metadata": {},
     "output_type": "execute_result"
    }
   ],
   "source": [
    "target[:, :-prediction_length]"
   ]
  },
  {
   "cell_type": "code",
   "execution_count": 195,
   "metadata": {},
   "outputs": [
    {
     "data": {
      "text/plain": [
       "array([[ 0. ,  0. ,  0. , ..., 12.4, 13.6, 15. ],\n",
       "       [ 0. ,  0. ,  0. , ..., 13.4, 14.6, 16. ]])"
      ]
     },
     "execution_count": 195,
     "metadata": {},
     "output_type": "execute_result"
    }
   ],
   "source": [
    "feat_dynamic_real_train"
   ]
  },
  {
   "cell_type": "code",
   "execution_count": 198,
   "metadata": {},
   "outputs": [
    {
     "data": {
      "text/plain": [
       "[array([30., 18., 21., ...,  0.,  0.,  0.]),\n",
       " array([31., 19., 22., ...,  0.,  0.,  0.])]"
      ]
     },
     "execution_count": 198,
     "metadata": {},
     "output_type": "execute_result"
    }
   ],
   "source": [
    "test_target_values"
   ]
  },
  {
   "cell_type": "code",
   "execution_count": 240,
   "metadata": {},
   "outputs": [
    {
     "data": {
      "text/plain": [
       "(14952, 2)"
      ]
     },
     "execution_count": 240,
     "metadata": {},
     "output_type": "execute_result"
    }
   ],
   "source": [
    "train_df.shape[1]"
   ]
  },
  {
   "cell_type": "code",
   "execution_count": 302,
   "metadata": {},
   "outputs": [
    {
     "data": {
      "text/plain": [
       "'sddsd'"
      ]
     },
     "execution_count": 302,
     "metadata": {},
     "output_type": "execute_result"
    }
   ],
   "source": [
    "'dsd /sddsd'.split('/')[-1]"
   ]
  },
  {
   "cell_type": "code",
   "execution_count": 307,
   "metadata": {},
   "outputs": [
    {
     "data": {
      "text/plain": [
       "DatetimeIndex(['2019-01-01 22:00:00', '2019-01-01 23:00:00',\n",
       "               '2019-01-02 00:00:00', '2019-01-02 01:00:00',\n",
       "               '2019-01-02 02:00:00', '2019-01-02 03:00:00',\n",
       "               '2019-01-02 04:00:00', '2019-01-02 05:00:00',\n",
       "               '2019-01-02 06:00:00', '2019-01-02 07:00:00',\n",
       "               ...\n",
       "               '2020-09-15 12:00:00', '2020-09-15 13:00:00',\n",
       "               '2020-09-15 14:00:00', '2020-09-15 15:00:00',\n",
       "               '2020-09-15 16:00:00', '2020-09-15 17:00:00',\n",
       "               '2020-09-15 18:00:00', '2020-09-15 19:00:00',\n",
       "               '2020-09-15 20:00:00', '2020-09-15 21:00:00'],\n",
       "              dtype='datetime64[ns]', name='timestamp', length=14952, freq=None)"
      ]
     },
     "execution_count": 307,
     "metadata": {},
     "output_type": "execute_result"
    }
   ],
   "source": [
    "df.index"
   ]
  },
  {
   "cell_type": "code",
   "execution_count": 411,
   "metadata": {},
   "outputs": [],
   "source": [
    "from gluonts.dataset.common import load_datasets, ListDataset\n",
    "from gluonts.dataset.field_names import FieldName\n",
    "\n",
    "train_df = df #sales_train_validation.drop([\"id\",\"item_id\",\"dept_id\",\"cat_id\",\"store_id\",\"state_id\"], axis=1)\n",
    "train_target_values = train_df.T.values #.reshape(df.shape[1], train_df.shape[0])\n",
    "submission = True\n",
    "\n",
    "if submission == True:\n",
    "    test_target_values = np.array([list(np.append(ts, np.ones(prediction_length) * 0)) for ts in train_target_values])\n",
    "else:\n",
    "    test_target_values = train_target_values.copy()\n",
    "    train_target_values = [ts[:-prediction_length] for ts in train_target_values]\n",
    "\n",
    "m5_dates = np.array([pd.Timestamp(df.index[0], freq='1H') for _ in range(train_df.shape[1])])\n",
    "feat_dynamic_static = np.array([0, 1])\n",
    "\n",
    "train_ds = ListDataset([\n",
    "    {\n",
    "        FieldName.TARGET: target,\n",
    "        FieldName.START: start,\n",
    "        FieldName.FEAT_DYNAMIC_REAL: [fdr],\n",
    "        FieldName.FEAT_STATIC_CAT: [fsc]\n",
    "    }\n",
    "    for (target, start, fdr, fsc) in zip(train_target_values,\n",
    "                                    m5_dates,\n",
    "                                    feat_dynamic_real_train,\n",
    "                                    feat_dynamic_static)\n",
    "], freq=\"H\")\n",
    "\n",
    "test_ds = ListDataset([\n",
    "    {\n",
    "        FieldName.TARGET: target,\n",
    "        FieldName.START: start,\n",
    "        FieldName.FEAT_DYNAMIC_REAL: [fdr],\n",
    "        FieldName.FEAT_STATIC_CAT: [fsc]\n",
    "    } \n",
    "    for (target, start, fdr, fsc) in zip(test_target_values,\n",
    "                                    m5_dates,\n",
    "                                    feat_dynamic_real_test,\n",
    "                                    feat_dynamic_static)\n",
    "], freq=\"H\")"
   ]
  },
  {
   "cell_type": "code",
   "execution_count": 405,
   "metadata": {},
   "outputs": [
    {
     "data": {
      "text/plain": [
       "array([Timestamp('2019-01-01 22:00:00', freq='H'),\n",
       "       Timestamp('2019-01-01 22:00:00', freq='H')], dtype=object)"
      ]
     },
     "execution_count": 405,
     "metadata": {},
     "output_type": "execute_result"
    }
   ],
   "source": [
    "m5_dates"
   ]
  },
  {
   "cell_type": "code",
   "execution_count": 406,
   "metadata": {},
   "outputs": [
    {
     "data": {
      "text/plain": [
       "array([[30. , 18. , 21. , ...,  7. ,  8. , 12.5],\n",
       "       [31. , 19. , 22. , ...,  8. ,  9. , 13.5]])"
      ]
     },
     "execution_count": 406,
     "metadata": {},
     "output_type": "execute_result"
    }
   ],
   "source": [
    "train_target_values"
   ]
  },
  {
   "cell_type": "code",
   "execution_count": 407,
   "metadata": {},
   "outputs": [
    {
     "data": {
      "text/plain": [
       "array([[30., 18., 21., ...,  0.,  0.,  0.],\n",
       "       [31., 19., 22., ...,  0.,  0.,  0.]])"
      ]
     },
     "execution_count": 407,
     "metadata": {},
     "output_type": "execute_result"
    }
   ],
   "source": [
    "test_target_values"
   ]
  },
  {
   "cell_type": "code",
   "execution_count": 401,
   "metadata": {},
   "outputs": [
    {
     "data": {
      "text/plain": [
       "array([[ 0. ,  0. ,  0. , ...,  7. ,  8. , 12.5],\n",
       "       [ 0. ,  0. ,  0. , ...,  8. ,  9. , 13.5]])"
      ]
     },
     "execution_count": 401,
     "metadata": {},
     "output_type": "execute_result"
    }
   ],
   "source": [
    "feat_dynamic_real_test"
   ]
  },
  {
   "cell_type": "code",
   "execution_count": 408,
   "metadata": {},
   "outputs": [
    {
     "data": {
      "text/plain": [
       "[{'target': array([30., 18., 21., ...,  0.,  0.,  0.]),\n",
       "  'start': Timestamp('2019-01-01 22:00:00', freq='H'),\n",
       "  'feat_dynamic_real': [array([ 0. ,  0. ,  0. , ...,  7. ,  8. , 12.5])],\n",
       "  'feat_static_cat': [0]},\n",
       " {'target': array([31., 19., 22., ...,  0.,  0.,  0.]),\n",
       "  'start': Timestamp('2019-01-01 22:00:00', freq='H'),\n",
       "  'feat_dynamic_real': [array([ 0. ,  0. ,  0. , ...,  8. ,  9. , 13.5])],\n",
       "  'feat_static_cat': [1]}]"
      ]
     },
     "execution_count": 408,
     "metadata": {},
     "output_type": "execute_result"
    }
   ],
   "source": [
    "[\n",
    "    {\n",
    "        FieldName.TARGET: target,\n",
    "        FieldName.START: start,\n",
    "        FieldName.FEAT_DYNAMIC_REAL: [fdr],\n",
    "        FieldName.FEAT_STATIC_CAT: [fsc]\n",
    "    } \n",
    "    for (target, start, fdr, fsc) in zip(test_target_values,\n",
    "                                    m5_dates,\n",
    "                                    feat_dynamic_real_test,\n",
    "                                    feat_dynamic_static\n",
    "                                   )]"
   ]
  },
  {
   "cell_type": "code",
   "execution_count": 409,
   "metadata": {},
   "outputs": [
    {
     "data": {
      "text/plain": [
       "array([[ 0. ,  0. ,  0. , ...,  7. ,  8. , 12.5],\n",
       "       [ 0. ,  0. ,  0. , ...,  8. ,  9. , 13.5]])"
      ]
     },
     "execution_count": 409,
     "metadata": {},
     "output_type": "execute_result"
    }
   ],
   "source": [
    "np.array(feat_dynamic_real_test[:,:])"
   ]
  },
  {
   "cell_type": "markdown",
   "metadata": {},
   "source": [
    "Just to be sure, we quickly verify that dataset format is correct and that our dataset does indeed contain the correct target values as well as dynamic and static features."
   ]
  },
  {
   "cell_type": "code",
   "execution_count": 412,
   "metadata": {},
   "outputs": [
    {
     "data": {
      "text/plain": [
       "{'target': array([30. , 18. , 21. , ...,  7. ,  8. , 12.5], dtype=float32),\n",
       " 'start': Timestamp('2019-01-01 22:00:00', freq='H'),\n",
       " 'feat_dynamic_real': array([[ 0. ,  0. ,  0. , ..., 12.4, 13.6, 15. ]], dtype=float32),\n",
       " 'feat_static_cat': array([0], dtype=int32),\n",
       " 'source': SourceContext(source='list_data', row=0)}"
      ]
     },
     "execution_count": 412,
     "metadata": {},
     "output_type": "execute_result"
    }
   ],
   "source": [
    "next(iter(train_ds))"
   ]
  },
  {
   "cell_type": "markdown",
   "metadata": {},
   "source": [
    "### Define a transformation"
   ]
  },
  {
   "cell_type": "code",
   "execution_count": null,
   "metadata": {},
   "outputs": [],
   "source": []
  },
  {
   "cell_type": "markdown",
   "metadata": {},
   "source": [
    "### Define the estimator\n",
    "\n",
    "Having obtained our training and testing data, we can now create a GluonTS estimator. In our example we will use the `DeepAREstimator`, an autoregressive RNN which was developed primarily for the purpose of time series forecasting. Note however that you can use a variety of different estimators. Also, since GluonTS is mainly target at probabilistic time series forecasting, lots of different output distributions can be specified. In the M5 case, we think that the `NegativeBinomialOutput` distribution best describes the output.\n",
    "\n",
    "For a full list of available estimators and possible initialization arguments see https://gluon-ts.mxnet.io/api/gluonts/gluonts.model.html.\n",
    "\n",
    "For a full list of available output distributions and possible initialization arguments see https://gluon-ts.mxnet.io/api/gluonts/gluonts.distribution.html."
   ]
  },
  {
   "cell_type": "code",
   "execution_count": 379,
   "metadata": {
    "scrolled": true
   },
   "outputs": [
    {
     "name": "stderr",
     "output_type": "stream",
     "text": [
      "\r",
      "  0%|          | 0/50 [00:00<?, ?it/s]"
     ]
    },
    {
     "name": "stdout",
     "output_type": "stream",
     "text": [
      "learning rate from ``lr_scheduler`` has been overwritten by ``learning_rate`` in optimizer.\n"
     ]
    },
    {
     "name": "stderr",
     "output_type": "stream",
     "text": [
      "100%|██████████| 50/50 [00:13<00:00,  3.60it/s, epoch=1/1, avg_epoch_loss=1.26]\n"
     ]
    }
   ],
   "source": [
    "from gluonts.model.deepar import DeepAREstimator\n",
    "from gluonts.distribution.neg_binomial import NegativeBinomialOutput\n",
    "from gluonts.trainer import Trainer\n",
    "from gluonts import time_feature\n",
    "\n",
    "estimator = DeepAREstimator(\n",
    "    prediction_length=24,\n",
    "    freq=\"H\",\n",
    "    context_length = 168,\n",
    "    distr_output = NegativeBinomialOutput(),\n",
    "    use_feat_dynamic_real=True,\n",
    "    dropout_rate = 0.1,\n",
    "    #use_feat_static_cat=True,\n",
    "    #cardinality=stat_cat_cardinalities,\n",
    "    cell_type = 'lstm', #'gru'\n",
    "#     time_features=[time_feature.HourOfDay(),\n",
    "#                    time_feature.DayOfWeek(),\n",
    "#                    time_feature.WeekOfYear()\n",
    "#                    time_feature.DayOfMonth(),\n",
    "#                    time_feature.MonthOfYear()],\n",
    "    #dropoutcell_type = \"VariationalDropoutCell\",\n",
    "    trainer=Trainer(#ctx=\"cpu\",\n",
    "                    learning_rate=1e-3,\n",
    "                    epochs=1,\n",
    "                    num_batches_per_epoch=50,\n",
    "                    batch_size=32\n",
    "    )\n",
    ")\n",
    "\n",
    "predictor = estimator.train(train_ds)"
   ]
  },
  {
   "cell_type": "markdown",
   "metadata": {},
   "source": [
    "### Generating forecasts\n",
    "\n",
    "Once the estimator is fully trained, we can generate predictions from it for the test values."
   ]
  },
  {
   "cell_type": "code",
   "execution_count": 15,
   "metadata": {
    "scrolled": true
   },
   "outputs": [
    {
     "name": "stdout",
     "output_type": "stream",
     "text": [
      "Obtaining time series conditioning values ...\n"
     ]
    },
    {
     "data": {
      "application/vnd.jupyter.widget-view+json": {
       "model_id": "a2399fdf007e4ddcb758563f24457b31",
       "version_major": 2,
       "version_minor": 0
      },
      "text/plain": [
       "HBox(children=(FloatProgress(value=0.0, max=1.0), HTML(value='')))"
      ]
     },
     "metadata": {},
     "output_type": "display_data"
    },
    {
     "name": "stdout",
     "output_type": "stream",
     "text": [
      "\n",
      "Obtaining time series predictions ...\n"
     ]
    },
    {
     "data": {
      "application/vnd.jupyter.widget-view+json": {
       "model_id": "2ad98050547545089b032c126f3c0f4f",
       "version_major": 2,
       "version_minor": 0
      },
      "text/plain": [
       "HBox(children=(FloatProgress(value=0.0, max=1.0), HTML(value='')))"
      ]
     },
     "metadata": {},
     "output_type": "display_data"
    },
    {
     "name": "stdout",
     "output_type": "stream",
     "text": [
      "\n"
     ]
    }
   ],
   "source": [
    "from gluonts.evaluation.backtest import make_evaluation_predictions\n",
    "\n",
    "forecast_it, ts_it = make_evaluation_predictions(\n",
    "    dataset=test_ds,\n",
    "    predictor=predictor,\n",
    "    num_samples=100\n",
    ")\n",
    "\n",
    "print(\"Obtaining time series conditioning values ...\")\n",
    "tss = list(tqdm(ts_it, total=len(test_ds)))\n",
    "print(\"Obtaining time series predictions ...\")\n",
    "forecasts = list(tqdm(forecast_it, total=len(test_ds)))"
   ]
  },
  {
   "cell_type": "code",
   "execution_count": 16,
   "metadata": {},
   "outputs": [],
   "source": [
    "# first entry of the forecast list\n",
    "forecast_entry = forecasts[0]\n",
    "ts_entry = tss[0]"
   ]
  },
  {
   "cell_type": "code",
   "execution_count": 32,
   "metadata": {},
   "outputs": [
    {
     "data": {
      "text/plain": [
       "Timestamp('2020-09-17 21:00:00', freq='H')"
      ]
     },
     "execution_count": 32,
     "metadata": {},
     "output_type": "execute_result"
    }
   ],
   "source": [
    "from datetime import datetime, timedelta \n",
    "ts_entry.index[-1] + timedelta(days=1)"
   ]
  },
  {
   "cell_type": "code",
   "execution_count": 47,
   "metadata": {},
   "outputs": [
    {
     "data": {
      "text/html": [
       "<div>\n",
       "<style scoped>\n",
       "    .dataframe tbody tr th:only-of-type {\n",
       "        vertical-align: middle;\n",
       "    }\n",
       "\n",
       "    .dataframe tbody tr th {\n",
       "        vertical-align: top;\n",
       "    }\n",
       "\n",
       "    .dataframe thead th {\n",
       "        text-align: right;\n",
       "    }\n",
       "</style>\n",
       "<table border=\"1\" class=\"dataframe\">\n",
       "  <thead>\n",
       "    <tr style=\"text-align: right;\">\n",
       "      <th></th>\n",
       "      <th>new</th>\n",
       "    </tr>\n",
       "  </thead>\n",
       "  <tbody>\n",
       "    <tr>\n",
       "      <th>2020-09-18 01:00:00</th>\n",
       "      <td>17</td>\n",
       "    </tr>\n",
       "    <tr>\n",
       "      <th>2020-09-18 02:00:00</th>\n",
       "      <td>8</td>\n",
       "    </tr>\n",
       "    <tr>\n",
       "      <th>2020-09-18 03:00:00</th>\n",
       "      <td>17</td>\n",
       "    </tr>\n",
       "    <tr>\n",
       "      <th>2020-09-18 04:00:00</th>\n",
       "      <td>10</td>\n",
       "    </tr>\n",
       "    <tr>\n",
       "      <th>2020-09-18 05:00:00</th>\n",
       "      <td>26</td>\n",
       "    </tr>\n",
       "    <tr>\n",
       "      <th>2020-09-18 06:00:00</th>\n",
       "      <td>11</td>\n",
       "    </tr>\n",
       "    <tr>\n",
       "      <th>2020-09-18 07:00:00</th>\n",
       "      <td>10</td>\n",
       "    </tr>\n",
       "    <tr>\n",
       "      <th>2020-09-18 08:00:00</th>\n",
       "      <td>2</td>\n",
       "    </tr>\n",
       "    <tr>\n",
       "      <th>2020-09-18 09:00:00</th>\n",
       "      <td>0</td>\n",
       "    </tr>\n",
       "    <tr>\n",
       "      <th>2020-09-18 10:00:00</th>\n",
       "      <td>22</td>\n",
       "    </tr>\n",
       "    <tr>\n",
       "      <th>2020-09-18 11:00:00</th>\n",
       "      <td>18</td>\n",
       "    </tr>\n",
       "    <tr>\n",
       "      <th>2020-09-18 12:00:00</th>\n",
       "      <td>11</td>\n",
       "    </tr>\n",
       "    <tr>\n",
       "      <th>2020-09-18 13:00:00</th>\n",
       "      <td>17</td>\n",
       "    </tr>\n",
       "    <tr>\n",
       "      <th>2020-09-18 14:00:00</th>\n",
       "      <td>5</td>\n",
       "    </tr>\n",
       "    <tr>\n",
       "      <th>2020-09-18 15:00:00</th>\n",
       "      <td>22</td>\n",
       "    </tr>\n",
       "    <tr>\n",
       "      <th>2020-09-18 16:00:00</th>\n",
       "      <td>21</td>\n",
       "    </tr>\n",
       "    <tr>\n",
       "      <th>2020-09-18 17:00:00</th>\n",
       "      <td>1</td>\n",
       "    </tr>\n",
       "    <tr>\n",
       "      <th>2020-09-18 18:00:00</th>\n",
       "      <td>6</td>\n",
       "    </tr>\n",
       "    <tr>\n",
       "      <th>2020-09-18 19:00:00</th>\n",
       "      <td>12</td>\n",
       "    </tr>\n",
       "    <tr>\n",
       "      <th>2020-09-18 20:00:00</th>\n",
       "      <td>7</td>\n",
       "    </tr>\n",
       "    <tr>\n",
       "      <th>2020-09-18 21:00:00</th>\n",
       "      <td>19</td>\n",
       "    </tr>\n",
       "    <tr>\n",
       "      <th>2020-09-18 22:00:00</th>\n",
       "      <td>15</td>\n",
       "    </tr>\n",
       "    <tr>\n",
       "      <th>2020-09-18 23:00:00</th>\n",
       "      <td>11</td>\n",
       "    </tr>\n",
       "    <tr>\n",
       "      <th>2020-09-19 00:00:00</th>\n",
       "      <td>27</td>\n",
       "    </tr>\n",
       "  </tbody>\n",
       "</table>\n",
       "</div>"
      ],
      "text/plain": [
       "                     new\n",
       "2020-09-18 01:00:00   17\n",
       "2020-09-18 02:00:00    8\n",
       "2020-09-18 03:00:00   17\n",
       "2020-09-18 04:00:00   10\n",
       "2020-09-18 05:00:00   26\n",
       "2020-09-18 06:00:00   11\n",
       "2020-09-18 07:00:00   10\n",
       "2020-09-18 08:00:00    2\n",
       "2020-09-18 09:00:00    0\n",
       "2020-09-18 10:00:00   22\n",
       "2020-09-18 11:00:00   18\n",
       "2020-09-18 12:00:00   11\n",
       "2020-09-18 13:00:00   17\n",
       "2020-09-18 14:00:00    5\n",
       "2020-09-18 15:00:00   22\n",
       "2020-09-18 16:00:00   21\n",
       "2020-09-18 17:00:00    1\n",
       "2020-09-18 18:00:00    6\n",
       "2020-09-18 19:00:00   12\n",
       "2020-09-18 20:00:00    7\n",
       "2020-09-18 21:00:00   19\n",
       "2020-09-18 22:00:00   15\n",
       "2020-09-18 23:00:00   11\n",
       "2020-09-19 00:00:00   27"
      ]
     },
     "execution_count": 47,
     "metadata": {},
     "output_type": "execute_result"
    }
   ],
   "source": [
    "start = datetime.now().replace(hour=1, minute=0, second=0, microsecond=0) + timedelta(days=1)\n",
    "end = start + timedelta(hours=23)\n",
    "dff = pd.DataFrame(index=pd.date_range(start=start, end=end, freq='H'))\n",
    "dff['new'] = np.random.randint(0,30,size=24)\n",
    "dff"
   ]
  },
  {
   "cell_type": "code",
   "execution_count": 17,
   "metadata": {},
   "outputs": [
    {
     "name": "stdout",
     "output_type": "stream",
     "text": [
      "Mean of the future window:\n",
      " [16.01 15.16 11.98 12.11 15.64 17.44 14.33 13.4  15.55 17.03 17.24 15.37\n",
      " 16.51 17.71 16.92 19.47 18.84 15.47 17.19 15.35 18.32 15.91 16.03 14.39]\n",
      "0.5-quantile (median) of the future window:\n",
      " [17. 19. 15. 16. 17. 22. 16. 17. 18. 22. 23. 18. 20. 23. 20. 24. 21. 21.\n",
      " 18. 18. 23. 19. 17. 19.]\n"
     ]
    }
   ],
   "source": [
    "print(f\"Mean of the future window:\\n {forecast_entry.mean}\")\n",
    "print(f\"0.5-quantile (median) of the future window:\\n {forecast_entry.quantile(0.7)}\")"
   ]
  },
  {
   "cell_type": "markdown",
   "metadata": {},
   "source": [
    "### Local performance validation (if `submission` is `False`)\n",
    "\n",
    "Since we don't want to constantly submit our results to Kaggle, it is important to being able to evaluate performace on our own validation set offline. To do so, we create a custom evaluator which, in addition to GluonTS's standard performance metrics, also returns `MRMSSE` (corresponding to the mean RMSSE). Note that the official score for the M5 competition, the `WRMSSE`, is not yet computed. A future version of this notebook will replace the `MRMSSE` by the `WRMSSE`."
   ]
  },
  {
   "cell_type": "code",
   "execution_count": 18,
   "metadata": {
    "scrolled": false
   },
   "outputs": [
    {
     "name": "stderr",
     "output_type": "stream",
     "text": [
      "Running evaluation: 100%|██████████| 1/1 [00:00<00:00, 22.50it/s]\n",
      "/home/aleksei/miniconda3/envs/fcrn_bidding/lib/python3.7/site-packages/gluonts/evaluation/_base.py:402: RuntimeWarning: divide by zero encountered in true_divide\n",
      "  totals[quantile.loss_name], totals[\"abs_target_sum\"]\n"
     ]
    }
   ],
   "source": [
    "from gluonts.evaluation import Evaluator\n",
    "evaluator = Evaluator(quantiles=[0.1, 0.5, 0.9])\n",
    "agg_metrics, item_metrics = evaluator(iter(tss), iter(forecasts), num_series=len(test_ds))"
   ]
  },
  {
   "cell_type": "code",
   "execution_count": 21,
   "metadata": {},
   "outputs": [
    {
     "data": {
      "text/plain": [
       "<list_iterator at 0x7f8073149550>"
      ]
     },
     "execution_count": 21,
     "metadata": {},
     "output_type": "execute_result"
    }
   ],
   "source": [
    "iter(tss)"
   ]
  },
  {
   "cell_type": "code",
   "execution_count": 19,
   "metadata": {},
   "outputs": [
    {
     "name": "stdout",
     "output_type": "stream",
     "text": [
      "{\n",
      "    \"MSE\": 258.5428466796875,\n",
      "    \"abs_error\": 293.0,\n",
      "    \"abs_target_sum\": 0.0,\n",
      "    \"abs_target_mean\": 0.0,\n",
      "    \"seasonal_error\": 11.297277975951232,\n",
      "    \"MASE\": 1.0806437939582867,\n",
      "    \"MAPE\": 0.0,\n",
      "    \"sMAPE\": 2.0,\n",
      "    \"OWA\": NaN,\n",
      "    \"MSIS\": 5.790480397660445,\n",
      "    \"QuantileLoss[0.1]\": 99.00000000000001,\n",
      "    \"Coverage[0.1]\": 1.0,\n",
      "    \"QuantileLoss[0.5]\": 293.0,\n",
      "    \"Coverage[0.5]\": 1.0,\n",
      "    \"QuantileLoss[0.9]\": 165.99999999999997,\n",
      "    \"Coverage[0.9]\": 1.0,\n",
      "    \"RMSE\": 16.07926760395782,\n",
      "    \"NRMSE\": 0.0,\n",
      "    \"ND\": 0.0,\n",
      "    \"wQuantileLoss[0.1]\": Infinity,\n",
      "    \"wQuantileLoss[0.5]\": Infinity,\n",
      "    \"wQuantileLoss[0.9]\": Infinity,\n",
      "    \"mean_wQuantileLoss\": Infinity,\n",
      "    \"MAE_Coverage\": 0.5\n",
      "}\n"
     ]
    }
   ],
   "source": [
    "print(json.dumps(agg_metrics, indent=4))"
   ]
  },
  {
   "cell_type": "markdown",
   "metadata": {},
   "source": [
    "### Plotting sample predictions\n",
    "\n",
    "Finally, we can also visualize our predictions for some of the time series."
   ]
  },
  {
   "cell_type": "code",
   "execution_count": 20,
   "metadata": {
    "scrolled": false
   },
   "outputs": [
    {
     "name": "stdout",
     "output_type": "stream",
     "text": [
      "Plotting time series predictions ...\n"
     ]
    },
    {
     "data": {
      "application/vnd.jupyter.widget-view+json": {
       "model_id": "f94aeba1ab38447fb9ff7ae133f647fd",
       "version_major": 2,
       "version_minor": 0
      },
      "text/plain": [
       "HBox(children=(FloatProgress(value=0.0, max=1.0), HTML(value='')))"
      ]
     },
     "metadata": {},
     "output_type": "display_data"
    },
    {
     "data": {
      "image/png": "[encoded data removed]",
      "text/plain": [
       "<Figure size 720x504 with 1 Axes>"
      ]
     },
     "metadata": {
      "needs_background": "light"
     },
     "output_type": "display_data"
    },
    {
     "name": "stdout",
     "output_type": "stream",
     "text": [
      "\n"
     ]
    },
    {
     "data": {
      "text/plain": [
       "<Figure size 432x288 with 0 Axes>"
      ]
     },
     "metadata": {},
     "output_type": "display_data"
    }
   ],
   "source": [
    "plot_log_path = \"./plots/\"\n",
    "directory = os.path.dirname(plot_log_path)\n",
    "if not os.path.exists(directory):\n",
    "    os.makedirs(directory)\n",
    "    \n",
    "def plot_prob_forecasts(ts_entry, forecast_entry, path, sample_id, inline=True):\n",
    "    plot_length = 168\n",
    "    prediction_intervals = (50, 67, 95, 99)\n",
    "    ts_entry['2020-09-15 22:00:00':] = forecast_entry.quantile(0.6).reshape(24,1)\n",
    "    legend = [\"observations\", \"median prediction\"] + [f\"{k}% prediction interval\" for k in prediction_intervals][::-1]\n",
    "\n",
    "    _, ax = plt.subplots(1, 1, figsize=(10, 7))\n",
    "    ts_entry[-plot_length:].plot(ax=ax)\n",
    "    forecast_entry.plot(prediction_intervals=prediction_intervals, color='g')\n",
    "    ax.axvline(ts_entry.index[prediction_length], color='r')\n",
    "    plt.legend(legend, loc=\"upper left\")\n",
    "    if inline:\n",
    "        plt.show()\n",
    "        plt.clf()\n",
    "    else:\n",
    "        plt.savefig('{}forecast_{}.pdf'.format(path, sample_id))\n",
    "        plt.close()\n",
    "\n",
    "print(\"Plotting time series predictions ...\")\n",
    "for i in tqdm(range(1)):\n",
    "    ts_entry = tss[i]\n",
    "    forecast_entry = forecasts[i]\n",
    "    plot_prob_forecasts(ts_entry, forecast_entry, plot_log_path, i)"
   ]
  },
  {
   "cell_type": "markdown",
   "metadata": {},
   "source": [
    "### Saving/Loading the model"
   ]
  },
  {
   "cell_type": "code",
   "execution_count": 140,
   "metadata": {},
   "outputs": [
    {
     "name": "stderr",
     "output_type": "stream",
     "text": [
      "WARNING:root:Serializing RepresentableBlockPredictor instances does not save the prediction network structure in a backwards-compatible manner. Be careful not to use this method in production.\n"
     ]
    }
   ],
   "source": [
    "# save the trained model in tmp/\n",
    "from pathlib import Path\n",
    "predictor.serialize(Path(\"./data/training/\"))"
   ]
  },
  {
   "cell_type": "code",
   "execution_count": 141,
   "metadata": {},
   "outputs": [],
   "source": [
    "# loads it back\n",
    "from gluonts.model.predictor import Predictor\n",
    "predictor_deserialized = Predictor.deserialize(Path(\"./data/training/\"))"
   ]
  },
  {
   "cell_type": "code",
   "execution_count": null,
   "metadata": {},
   "outputs": [],
   "source": []
  }
 ],
 "metadata": {
  "kernelspec": {
   "display_name": "Python 3.9 (datascience)",
   "language": "python",
   "name": "datascience"
  },
  "language_info": {
   "codemirror_mode": {
    "name": "ipython",
    "version": 3
   },
   "file_extension": ".py",
   "mimetype": "text/x-python",
   "name": "python",
   "nbconvert_exporter": "python",
   "pygments_lexer": "ipython3",
   "version": "3.9.9"
  }
 },
 "nbformat": 4,
 "nbformat_minor": 4
}
