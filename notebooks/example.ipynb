{
 "cells": [
  {
   "cell_type": "markdown",
   "metadata": {},
   "source": [
    "# Example Notebook\n",
    "\n",
    "This is an example notebook.\n",
    "\n",
    "Modify / remove any of the below as suited for your needs"
   ]
  },
  {
   "cell_type": "code",
   "execution_count": 10,
   "metadata": {},
   "outputs": [
    {
     "data": {
      "text/plain": [
       "DatetimeIndex(['2020-12-03 09:15:00', '2020-12-03 09:15:01',\n",
       "               '2020-12-03 09:15:02', '2020-12-03 09:15:03',\n",
       "               '2020-12-03 09:15:04', '2020-12-03 09:15:05',\n",
       "               '2020-12-03 09:15:06', '2020-12-03 09:15:07',\n",
       "               '2020-12-03 09:15:08', '2020-12-03 09:15:09',\n",
       "               ...\n",
       "               '2020-12-03 09:29:50', '2020-12-03 09:29:51',\n",
       "               '2020-12-03 09:29:52', '2020-12-03 09:29:53',\n",
       "               '2020-12-03 09:29:54', '2020-12-03 09:29:55',\n",
       "               '2020-12-03 09:29:56', '2020-12-03 09:29:57',\n",
       "               '2020-12-03 09:29:58', '2020-12-03 09:29:59'],\n",
       "              dtype='datetime64[ns]', length=900, freq='S')"
      ]
     },
     "execution_count": 10,
     "metadata": {},
     "output_type": "execute_result"
    }
   ],
   "source": [
    "import pandas as pd\n",
    "from datetime import datetime, timedelta\n",
    "end_time = datetime.utcnow().replace(second=0, minute=30,microsecond=0)\n",
    "start_time = end_time - timedelta(seconds=900.0)\n",
    "datetimes = pd.date_range(start=start_time, end=end_time, freq=\"1S\", closed='left')\n",
    "datetimes"
   ]
  },
  {
   "cell_type": "code",
   "execution_count": 34,
   "metadata": {},
   "outputs": [
    {
     "data": {
      "text/plain": [
       "[<matplotlib.lines.Line2D at 0x7fdb520a46a0>]"
      ]
     },
     "execution_count": 34,
     "metadata": {},
     "output_type": "execute_result"
    },
    {
     "data": {
      "image/png": "[encoded data removed]",
      "text/plain": [
       "<Figure size 432x288 with 1 Axes>"
      ]
     },
     "metadata": {
      "needs_background": "light"
     },
     "output_type": "display_data"
    }
   ],
   "source": [
    "import numpy as np\n",
    "T=96\n",
    "np.repeat(45, T).reshape(T, 1)\n",
    "t = np.linspace(1, T, num=T).reshape(T,1)\n",
    "plt.plot(2*np.exp(-0.6*np.cos((t+40)*np.pi/T) - \\\n",
    "             0.7*np.cos(t*4*np.pi/T)+0.01*np.random.randn(T, 1)))"
   ]
  },
  {
   "cell_type": "markdown",
   "metadata": {},
   "source": [
    "## Setup"
   ]
  },
  {
   "cell_type": "code",
   "execution_count": 5,
   "metadata": {},
   "outputs": [],
   "source": [
    "# Standard python packages\n",
    "import os\n",
    "import sys\n",
    "\n",
    "# Other package imports\n",
    "# import numpy as np\n",
    "# import pandas as pd\n",
    "# from matplotlib import pyplot as plt"
   ]
  },
  {
   "cell_type": "markdown",
   "metadata": {},
   "source": [
    "Setup some global settings and configuration"
   ]
  },
  {
   "cell_type": "code",
   "execution_count": 7,
   "metadata": {},
   "outputs": [],
   "source": [
    "project_root = os.path.abspath(os.path.join(os.getcwd(), os.pardir, os.pardir))\n",
    "data_folder = os.path.join(project_root, 'data')\n",
    "data_folder_raw = os.path.join(data_folder, 'raw')\n",
    "src_folder = os.path.join(project_root, 'src')"
   ]
  },
  {
   "cell_type": "markdown",
   "metadata": {},
   "source": [
    "This notebook uses the shared package however first we need to ensure it is available (otherwise you get an error about the module not being found). You can either run setup.py as discussed in the readme to install the package or modify the path to include the src folder."
   ]
  },
  {
   "cell_type": "code",
   "execution_count": 9,
   "metadata": {},
   "outputs": [
    {
     "ename": "ModuleNotFoundError",
     "evalue": "No module named 'fcrn_bidding'",
     "output_type": "error",
     "traceback": [
      "\u001b[0;31m---------------------------------------------------------------------------\u001b[0m",
      "\u001b[0;31mModuleNotFoundError\u001b[0m                       Traceback (most recent call last)",
      "\u001b[0;32m<ipython-input-9-d904bee28594>\u001b[0m in \u001b[0;36m<module>\u001b[0;34m\u001b[0m\n\u001b[1;32m      4\u001b[0m \u001b[0msys\u001b[0m\u001b[0;34m.\u001b[0m\u001b[0mpath\u001b[0m\u001b[0;34m.\u001b[0m\u001b[0minsert\u001b[0m\u001b[0;34m(\u001b[0m\u001b[0;36m0\u001b[0m\u001b[0;34m,\u001b[0m \u001b[0msrc_folder\u001b[0m\u001b[0;34m)\u001b[0m\u001b[0;34m\u001b[0m\u001b[0;34m\u001b[0m\u001b[0m\n\u001b[1;32m      5\u001b[0m \u001b[0;34m\u001b[0m\u001b[0m\n\u001b[0;32m----> 6\u001b[0;31m \u001b[0;32mfrom\u001b[0m \u001b[0mfcrn_bidding\u001b[0m \u001b[0;32mimport\u001b[0m \u001b[0mexamplemodule\u001b[0m\u001b[0;34m\u001b[0m\u001b[0;34m\u001b[0m\u001b[0m\n\u001b[0m",
      "\u001b[0;31mModuleNotFoundError\u001b[0m: No module named 'fcrn_bidding'"
     ]
    }
   ],
   "source": [
    "# Explicitly set path so don't need to run setup.py - if we have multiple copies of \n",
    "# the code we would otherwise need to setup a seperate environment for each to\n",
    "# ensure the code pointers are correct.\n",
    "sys.path.insert(0, src_folder)\n",
    "\n",
    "from fcrn_bidding import examplemodule"
   ]
  },
  {
   "cell_type": "markdown",
   "metadata": {},
   "source": [
    "## Some Processing"
   ]
  },
  {
   "cell_type": "code",
   "execution_count": 6,
   "metadata": {},
   "outputs": [
    {
     "ename": "NameError",
     "evalue": "name 'examplemodule' is not defined",
     "output_type": "error",
     "traceback": [
      "\u001b[0;31m---------------------------------------------------------------------------\u001b[0m",
      "\u001b[0;31mNameError\u001b[0m                                 Traceback (most recent call last)",
      "\u001b[0;32m<ipython-input-6-c3b8bb1df6c3>\u001b[0m in \u001b[0;36m<module>\u001b[0;34m\u001b[0m\n\u001b[1;32m      1\u001b[0m \u001b[0;31m# Use our package\u001b[0m\u001b[0;34m\u001b[0m\u001b[0;34m\u001b[0m\u001b[0;34m\u001b[0m\u001b[0m\n\u001b[0;32m----> 2\u001b[0;31m \u001b[0mexamplemodule\u001b[0m\u001b[0;34m.\u001b[0m\u001b[0mhello_world\u001b[0m\u001b[0;34m(\u001b[0m\u001b[0;34m)\u001b[0m\u001b[0;34m\u001b[0m\u001b[0;34m\u001b[0m\u001b[0m\n\u001b[0m",
      "\u001b[0;31mNameError\u001b[0m: name 'examplemodule' is not defined"
     ]
    }
   ],
   "source": [
    "# Use our package\n",
    "examplemodule.hello_world()"
   ]
  },
  {
   "cell_type": "markdown",
   "metadata": {},
   "source": [
    "## Appendix 1 - Environment Configuration"
   ]
  },
  {
   "cell_type": "code",
   "execution_count": 5,
   "metadata": {},
   "outputs": [
    {
     "name": "stdout",
     "output_type": "stream",
     "text": [
      "D:\\Development\\DataScience\\Projects\\DataScienceTemplate\\notebooks\\eda\n",
      "3.6.4 |Anaconda custom (64-bit)| (default, Mar 12 2018, 20:20:50) [MSC v.1900 64 bit (AMD64)]\n",
      "C:\\Applications\\Miniconda3\\envs\\anaconda\\python.exe\n",
      "['D:\\\\Development\\\\DataScience\\\\Projects\\\\DataScienceTemplate\\\\src', '', 'C:\\\\Applications\\\\Miniconda3\\\\envs\\\\anaconda\\\\python36.zip', 'C:\\\\Applications\\\\Miniconda3\\\\envs\\\\anaconda\\\\DLLs', 'C:\\\\Applications\\\\Miniconda3\\\\envs\\\\anaconda\\\\lib', 'C:\\\\Applications\\\\Miniconda3\\\\envs\\\\anaconda', 'C:\\\\Applications\\\\Miniconda3\\\\envs\\\\anaconda\\\\lib\\\\site-packages', 'd:\\\\development\\\\datascience\\\\projects\\\\data-science-shared\\\\python', 'C:\\\\Applications\\\\Miniconda3\\\\envs\\\\anaconda\\\\lib\\\\site-packages\\\\xgboost-0.7-py3.6.egg', 'C:\\\\Applications\\\\Miniconda3\\\\envs\\\\anaconda\\\\lib\\\\site-packages\\\\win32', 'C:\\\\Applications\\\\Miniconda3\\\\envs\\\\anaconda\\\\lib\\\\site-packages\\\\win32\\\\lib', 'C:\\\\Applications\\\\Miniconda3\\\\envs\\\\anaconda\\\\lib\\\\site-packages\\\\Pythonwin', 'C:\\\\Applications\\\\Miniconda3\\\\envs\\\\anaconda\\\\lib\\\\site-packages\\\\IPython\\\\extensions', 'C:\\\\Users\\\\mark_\\\\.ipython']\n"
     ]
    }
   ],
   "source": [
    "print (os.getcwd())\n",
    "print (sys.version)\n",
    "print (sys.executable)\n",
    "print (sys.path)"
   ]
  },
  {
   "cell_type": "markdown",
   "metadata": {},
   "source": [
    "## Appendix 2 - Automated Tests"
   ]
  },
  {
   "cell_type": "code",
   "execution_count": 6,
   "metadata": {},
   "outputs": [
    {
     "name": "stdout",
     "output_type": "stream",
     "text": [
      "============================= test session starts =============================\n",
      "platform win32 -- Python 3.6.4, pytest-3.4.2, py-1.5.2, pluggy-0.6.0\n",
      "rootdir: D:\\Development\\DataScience\\Projects\\DataScienceTemplate, inifile:\n",
      "plugins: remotedata-0.2.0, openfiles-0.2.0, doctestplus-0.1.2, cov-2.5.1, arraydiff-0.2\n",
      "collected 5 items\n",
      "\n",
      "tests\\examplepackage\\examplemodule\\test_add_value_to_numpy.py ...        [ 60%]\n",
      "tests\\examplepackage\\examplemodule\\test_hello_world.py ..                [100%]\n",
      "\n",
      "========================== 5 passed in 0.37 seconds ===========================\n"
     ]
    }
   ],
   "source": [
    "# Run tests within notebook\n",
    "f_path = os.getcwd()\n",
    "os.chdir(os.path.abspath(os.path.join(os.getcwd(), os.pardir, os.pardir)))\n",
    "\n",
    "# Run pytest from the repository root\n",
    "!pytest\n",
    "\n",
    "os.chdir(f_path)"
   ]
  },
  {
   "cell_type": "code",
   "execution_count": 12,
   "metadata": {},
   "outputs": [
    {
     "name": "stdout",
     "output_type": "stream",
     "text": [
      "2020-12-03 14:45:00\n"
     ]
    }
   ],
   "source": [
    "import datetime\n",
    "tm = datetime.datetime.now()\n",
    "discard = datetime.timedelta(minutes=tm.minute % 15,\n",
    "                             seconds=tm.second,\n",
    "                             microseconds=tm.microsecond)\n",
    "tm -= discard\n",
    "if discard >= datetime.timedelta(minutes=15/2.):\n",
    "    tm += datetime.timedelta(minutes=15)\n",
    "print(tm)"
   ]
  },
  {
   "cell_type": "code",
   "execution_count": 13,
   "metadata": {},
   "outputs": [],
   "source": [
    "def round_time(minutes=15):\n",
    "    tm = datetime.datetime.now()\n",
    "    discard = datetime.timedelta(minutes=tm.minute % minutes,\n",
    "                                 seconds=tm.second,\n",
    "                                 microseconds=tm.microsecond)\n",
    "    tm -= discard\n",
    "    if discard >= datetime.timedelta(minutes=minutes/2.):\n",
    "        tm += datetime.timedelta(minutes=minutes)\n",
    "    return tm "
   ]
  },
  {
   "cell_type": "code",
   "execution_count": 19,
   "metadata": {},
   "outputs": [
    {
     "name": "stdout",
     "output_type": "stream",
     "text": [
      "2020-12-03 15:00:00\n"
     ]
    }
   ],
   "source": [
    "print(round_time())"
   ]
  },
  {
   "cell_type": "code",
   "execution_count": 217,
   "metadata": {},
   "outputs": [
    {
     "data": {
      "text/plain": [
       "Timestamp('2020-11-30 10:00:00')"
      ]
     },
     "execution_count": 217,
     "metadata": {},
     "output_type": "execute_result"
    }
   ],
   "source": [
    "st = datetime.utcnow().replace(second=0, microsecond=0)\n",
    "start_time = pd.Series(st).dt.round(f\"15min\").at[0]\n",
    "start_time"
   ]
  },
  {
   "cell_type": "code",
   "execution_count": 206,
   "metadata": {},
   "outputs": [
    {
     "name": "stdout",
     "output_type": "stream",
     "text": [
      "2020-11-30 11:31:00\n"
     ]
    }
   ],
   "source": [
    "import datetime\n",
    "def round_time(dt=None, round_to=60):\n",
    "    if dt == None: \n",
    "        dt = datetime.datetime.now()\n",
    "    seconds = (dt - dt.min).seconds\n",
    "    rounding = (seconds+round_to/2) // round_to * round_to\n",
    "    return dt + datetime.timedelta(0,rounding-seconds,-dt.microsecond)\n",
    "\n",
    "print(round_time(round_to=60))"
   ]
  },
  {
   "cell_type": "code",
   "execution_count": 212,
   "metadata": {},
   "outputs": [
    {
     "data": {
      "text/plain": [
       "DatetimeIndex(['2020-11-30 11:30:00', '2020-11-30 11:45:00',\n",
       "               '2020-11-30 12:00:00', '2020-11-30 12:15:00',\n",
       "               '2020-11-30 12:30:00', '2020-11-30 12:45:00',\n",
       "               '2020-11-30 13:00:00', '2020-11-30 13:15:00',\n",
       "               '2020-11-30 13:30:00', '2020-11-30 13:45:00',\n",
       "               '2020-11-30 14:00:00', '2020-11-30 14:15:00',\n",
       "               '2020-11-30 14:30:00', '2020-11-30 14:45:00',\n",
       "               '2020-11-30 15:00:00', '2020-11-30 15:15:00',\n",
       "               '2020-11-30 15:30:00', '2020-11-30 15:45:00',\n",
       "               '2020-11-30 16:00:00', '2020-11-30 16:15:00',\n",
       "               '2020-11-30 16:30:00', '2020-11-30 16:45:00',\n",
       "               '2020-11-30 17:00:00', '2020-11-30 17:15:00',\n",
       "               '2020-11-30 17:30:00', '2020-11-30 17:45:00',\n",
       "               '2020-11-30 18:00:00', '2020-11-30 18:15:00',\n",
       "               '2020-11-30 18:30:00', '2020-11-30 18:45:00',\n",
       "               '2020-11-30 19:00:00', '2020-11-30 19:15:00',\n",
       "               '2020-11-30 19:30:00', '2020-11-30 19:45:00',\n",
       "               '2020-11-30 20:00:00', '2020-11-30 20:15:00',\n",
       "               '2020-11-30 20:30:00', '2020-11-30 20:45:00',\n",
       "               '2020-11-30 21:00:00', '2020-11-30 21:15:00',\n",
       "               '2020-11-30 21:30:00', '2020-11-30 21:45:00',\n",
       "               '2020-11-30 22:00:00', '2020-11-30 22:15:00',\n",
       "               '2020-11-30 22:30:00', '2020-11-30 22:45:00'],\n",
       "              dtype='datetime64[ns]', freq=None)"
      ]
     },
     "execution_count": 212,
     "metadata": {},
     "output_type": "execute_result"
    }
   ],
   "source": [
    "from datetime import datetime, timedelta\n",
    "import pandas as pd\n",
    "end_time = datetime.utcnow().replace(hour=22, minute=45, second=0, microsecond=0)\n",
    "start_time = datetime.utcnow().replace(second=0, microsecond=0)\n",
    "pd.date_range(start=tm, end=end_time, freq='15T').round('15min', ambiguous='infer')"
   ]
  },
  {
   "cell_type": "code",
   "execution_count": 169,
   "metadata": {},
   "outputs": [
    {
     "data": {
      "text/plain": [
       "DatetimeIndex(['2020-11-26 14:00:00', '2020-11-26 15:00:00',\n",
       "               '2020-11-26 16:00:00', '2020-11-26 17:00:00',\n",
       "               '2020-11-26 18:00:00', '2020-11-26 19:00:00',\n",
       "               '2020-11-26 20:00:00', '2020-11-26 21:00:00',\n",
       "               '2020-11-26 22:00:00'],\n",
       "              dtype='datetime64[ns]', freq=None)"
      ]
     },
     "execution_count": 169,
     "metadata": {},
     "output_type": "execute_result"
    }
   ],
   "source": [
    "pd.date_range(start=start_time, end=end_time, freq='60T').round('60min')"
   ]
  },
  {
   "cell_type": "code",
   "execution_count": 26,
   "metadata": {},
   "outputs": [
    {
     "name": "stdout",
     "output_type": "stream",
     "text": [
      "[[0. 0. 0. 0. 0. 0. 0. 0. 0. 0. 0. 0. 0. 0. 0. 0. 0. 0. 0. 0. 0. 0. 0.]]\n",
      "[[1]\n",
      " [1]\n",
      " [1]]\n"
     ]
    },
    {
     "data": {
      "image/png": "[encoded data removed]",
      "text/plain": [
       "<Figure size 432x288 with 1 Axes>"
      ]
     },
     "metadata": {
      "needs_background": "light"
     },
     "output_type": "display_data"
    }
   ],
   "source": [
    "import numpy as np\n",
    "#import cvxpy as cp\n",
    "\n",
    "print(np.zeros((23,1)).transpose())\n",
    "print(np.repeat(1, 3).reshape(3,1))\n",
    "\n",
    "\n",
    "# Here we plot the demands u and prices p.\n",
    "import numpy as np\n",
    "import matplotlib.pyplot as plt\n",
    "np.random.seed(1)\n",
    "T = 24\n",
    "t = np.linspace(1, T, num=T).reshape(T,1)\n",
    "p = 10*np.exp(-np.cos((t-7)*2*np.pi/T)+0.01*np.random.randn(T,1))\n",
    "u = 40*np.exp(0.3*np.cos((t+16)*np.pi/T)-0.3*np.cos((t+15)*np.pi/T) - \\\n",
    "    0.3*np.cos(t*4*np.pi/T))#+0.01*np.random.randn(T,1))\n",
    "p = p\n",
    "u = u\n",
    "\n",
    "plt.figure(1)\n",
    "plt.plot(t, p, 'g', label=r\"$p$\");\n",
    "plt.plot(t, u, 'r', label=r\"$u$\");\n",
    "plt.ylabel(\"$\")\n",
    "plt.xlabel(\"t\")\n",
    "plt.legend()\n",
    "plt.show()\n"
   ]
  },
  {
   "cell_type": "code",
   "execution_count": 12,
   "metadata": {},
   "outputs": [
    {
     "data": {
      "text/plain": [
       "array([[29.85771915],\n",
       "       [33.42739751],\n",
       "       [38.9783158 ],\n",
       "       [45.47113982],\n",
       "       [50.97477164],\n",
       "       [53.3175511 ],\n",
       "       [51.47165999],\n",
       "       [46.35424681],\n",
       "       [40.10279352],\n",
       "       [34.6929038 ],\n",
       "       [31.23957502],\n",
       "       [30.15153074],\n",
       "       [31.52791841],\n",
       "       [35.33074054],\n",
       "       [41.19772596],\n",
       "       [48.01473211],\n",
       "       [53.72519357],\n",
       "       [56.03848968],\n",
       "       [53.90239608],\n",
       "       [48.32926664],\n",
       "       [41.59738529],\n",
       "       [35.77922115],\n",
       "       [32.01585181],\n",
       "       [30.69422188]])"
      ]
     },
     "execution_count": 12,
     "metadata": {},
     "output_type": "execute_result"
    }
   ],
   "source": [
    "u"
   ]
  },
  {
   "cell_type": "code",
   "execution_count": 5,
   "metadata": {},
   "outputs": [],
   "source": [
    "t = 24\n",
    "p = np.exp(-np.cos((t-7)*2*np.pi/T)+0.01*np.random.randn(T,1))"
   ]
  },
  {
   "cell_type": "code",
   "execution_count": 8,
   "metadata": {},
   "outputs": [
    {
     "data": {
      "text/plain": [
       "array([[1.00120231],\n",
       "       [0.77674201],\n",
       "       [0.60835402],\n",
       "       [0.49133491],\n",
       "       [0.41584171],\n",
       "       [0.37930325],\n",
       "       [0.36711176],\n",
       "       [0.38287007],\n",
       "       [0.4241638 ],\n",
       "       [0.4976811 ],\n",
       "       [0.60826531],\n",
       "       [0.77882599],\n",
       "       [0.9924844 ],\n",
       "       [1.31173111],\n",
       "       [1.65719978],\n",
       "       [2.02207832],\n",
       "       [2.38908533],\n",
       "       [2.62523419],\n",
       "       [2.74921741],\n",
       "       [2.66745276],\n",
       "       [2.42997546],\n",
       "       [1.99998927],\n",
       "       [1.62508295],\n",
       "       [1.28888098]])"
      ]
     },
     "execution_count": 8,
     "metadata": {},
     "output_type": "execute_result"
    }
   ],
   "source": [
    "p = np.exp(-np.cos((t-7)*2*np.pi/T)+0.01*np.random.randn(T,1))\n",
    "p"
   ]
  },
  {
   "cell_type": "code",
   "execution_count": 7,
   "metadata": {},
   "outputs": [
    {
     "data": {
      "text/plain": [
       "array([[0.93933317],\n",
       "       [0.9661317 ],\n",
       "       [0.9106336 ],\n",
       "       [0.67109674],\n",
       "       [0.72504806],\n",
       "       [0.82897921],\n",
       "       [0.82797105],\n",
       "       [1.01741965],\n",
       "       [0.78813488],\n",
       "       [0.80107592],\n",
       "       [1.12752542],\n",
       "       [1.02117996],\n",
       "       [1.2998389 ],\n",
       "       [1.07641482],\n",
       "       [1.01984678],\n",
       "       [0.98960942],\n",
       "       [1.02834031],\n",
       "       [0.8811337 ],\n",
       "       [1.01266458],\n",
       "       [0.89145006],\n",
       "       [1.02842728],\n",
       "       [0.92959994],\n",
       "       [0.91347186],\n",
       "       [0.95467866]])"
      ]
     },
     "execution_count": 7,
     "metadata": {},
     "output_type": "execute_result"
    }
   ],
   "source": [
    "import pandas as pd\n",
    "pd.read_csv('/home/aleksei/IEPOS_cpouta/R/forecasts/sonnen/max_power_forecast.csv').iloc[:24,0].values.reshape(24,1).to"
   ]
  },
  {
   "cell_type": "code",
   "execution_count": 18,
   "metadata": {},
   "outputs": [
    {
     "data": {
      "text/plain": [
       "<matplotlib.axes._subplots.AxesSubplot at 0x7f4aeabd5908>"
      ]
     },
     "execution_count": 18,
     "metadata": {},
     "output_type": "execute_result"
    },
    {
     "data": {
      "image/png": "[encoded data removed]",
      "text/plain": [
       "<Figure size 432x288 with 1 Axes>"
      ]
     },
     "metadata": {
      "needs_background": "light"
     },
     "output_type": "display_data"
    }
   ],
   "source": [
    "pd.read_csv('/home/aleksei/DOMINOES/FCRN-bidding/data/raw/fcrn_hourly_prices.csv').set_index('start_time').plot()"
   ]
  },
  {
   "cell_type": "code",
   "execution_count": null,
   "metadata": {},
   "outputs": [],
   "source": []
  }
 ],
 "metadata": {
  "kernelspec": {
   "display_name": "venv",
   "language": "python",
   "name": "python3"
  },
  "language_info": {
   "codemirror_mode": {
    "name": "ipython",
    "version": 3
   },
   "file_extension": ".py",
   "mimetype": "text/x-python",
   "name": "python",
   "nbconvert_exporter": "python",
   "pygments_lexer": "ipython3",
   "version": "3.8.12 | packaged by conda-forge | (default, Oct 12 2021, 21:21:17) \n[Clang 11.1.0 ]"
  },
  "vscode": {
   "interpreter": {
    "hash": "0d3c14e042514e93beaa0b2031e97337e8a2535b5aef8a143f19ae63bd81fce5"
   }
  }
 },
 "nbformat": 4,
 "nbformat_minor": 2
}
